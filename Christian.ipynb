{
 "cells": [
  {
   "cell_type": "markdown",
   "metadata": {},
   "source": [
    "### A project to determine flight delays\n",
    "Participants:\\\n",
    "Chheang Duong\\\n",
    "Christian Rolph\\\n",
    "Jacob Chesnut"
   ]
  },
  {
   "cell_type": "code",
   "execution_count": 57,
   "metadata": {},
   "outputs": [],
   "source": [
    "# import necessary libraries\n",
    "import pandas as pd \n",
    "import numpy as np\n",
    "import matplotlib.pyplot as plt\n",
    "%matplotlib inline"
   ]
  },
  {
   "cell_type": "code",
   "execution_count": 58,
   "metadata": {},
   "outputs": [],
   "source": [
    "# define paths to data\n",
    "combinedFlights2018 = \"archive\\Combined_Flights_2018.csv\"\n",
    "combinedFlights2019 = 'archive\\Combined_Flights_2019.csv'\n",
    "combinedFlights2020 = 'archive\\Combined_Flights_2020.csv'\n",
    "combinedFlights2021 = 'archive\\Combined_Flights_2021.csv'\n",
    "combinedFlights2022 = 'archive\\Combined_Flights_2022.csv'"
   ]
  },
  {
   "cell_type": "code",
   "execution_count": 59,
   "metadata": {},
   "outputs": [],
   "source": [
    "# import datasets\n",
    "dataFrame18=pd.read_csv(combinedFlights2018)"
   ]
  },
  {
   "cell_type": "markdown",
   "metadata": {},
   "source": [
    "The ArrDelayMinutes feature shows the difference in minutes between scheduled and actual arrival time. Early arrivals are set to 0. We'll plot this feature to see the distrobution."
   ]
  },
  {
   "cell_type": "code",
   "execution_count": 60,
   "metadata": {},
   "outputs": [],
   "source": [
    "# Needed Functions\n",
    "\n",
    "# Simple understanding of ArrDelayMinutes min/max\n",
    "def GetDelayValues(dataFrame):\n",
    "    maxValue = dataFrame['ArrDelayMinutes'].max()\n",
    "    minValue = dataFrame['ArrDelayMinutes'].min()\n",
    "    print(f\"Longest Delay: {maxValue} minutes\")\n",
    "    print(f\"Shortest Delay: {minValue} minutes\")\n",
    "\n",
    "# Function to show DataFrame basic info\n",
    "def ShowBasicDataFrameInfo(dataFrame):\n",
    "    print(\"DataFrame Info\")\n",
    "    print(dataFrame.info())\n",
    "    print(\"DataFrame Describe\")\n",
    "    print(dataFrame.describe())\n",
    "    print(\"DataFrame Head\")\n",
    "    print(dataFrame.head())"
   ]
  },
  {
   "cell_type": "code",
   "execution_count": 61,
   "metadata": {},
   "outputs": [
    {
     "name": "stdout",
     "output_type": "stream",
     "text": [
      "DataFrame Info\n",
      "<class 'pandas.core.frame.DataFrame'>\n",
      "RangeIndex: 5689512 entries, 0 to 5689511\n",
      "Data columns (total 61 columns):\n",
      " #   Column                                   Dtype  \n",
      "---  ------                                   -----  \n",
      " 0   FlightDate                               object \n",
      " 1   Airline                                  object \n",
      " 2   Origin                                   object \n",
      " 3   Dest                                     object \n",
      " 4   Cancelled                                bool   \n",
      " 5   Diverted                                 bool   \n",
      " 6   CRSDepTime                               int64  \n",
      " 7   DepTime                                  float64\n",
      " 8   DepDelayMinutes                          float64\n",
      " 9   DepDelay                                 float64\n",
      " 10  ArrTime                                  float64\n",
      " 11  ArrDelayMinutes                          float64\n",
      " 12  AirTime                                  float64\n",
      " 13  CRSElapsedTime                           float64\n",
      " 14  ActualElapsedTime                        float64\n",
      " 15  Distance                                 float64\n",
      " 16  Year                                     int64  \n",
      " 17  Quarter                                  int64  \n",
      " 18  Month                                    int64  \n",
      " 19  DayofMonth                               int64  \n",
      " 20  DayOfWeek                                int64  \n",
      " 21  Marketing_Airline_Network                object \n",
      " 22  Operated_or_Branded_Code_Share_Partners  object \n",
      " 23  DOT_ID_Marketing_Airline                 int64  \n",
      " 24  IATA_Code_Marketing_Airline              object \n",
      " 25  Flight_Number_Marketing_Airline          int64  \n",
      " 26  Operating_Airline                        object \n",
      " 27  DOT_ID_Operating_Airline                 int64  \n",
      " 28  IATA_Code_Operating_Airline              object \n",
      " 29  Tail_Number                              object \n",
      " 30  Flight_Number_Operating_Airline          int64  \n",
      " 31  OriginAirportID                          int64  \n",
      " 32  OriginAirportSeqID                       int64  \n",
      " 33  OriginCityMarketID                       int64  \n",
      " 34  OriginCityName                           object \n",
      " 35  OriginState                              object \n",
      " 36  OriginStateFips                          int64  \n",
      " 37  OriginStateName                          object \n",
      " 38  OriginWac                                int64  \n",
      " 39  DestAirportID                            int64  \n",
      " 40  DestAirportSeqID                         int64  \n",
      " 41  DestCityMarketID                         int64  \n",
      " 42  DestCityName                             object \n",
      " 43  DestState                                object \n",
      " 44  DestStateFips                            int64  \n",
      " 45  DestStateName                            object \n",
      " 46  DestWac                                  int64  \n",
      " 47  DepDel15                                 float64\n",
      " 48  DepartureDelayGroups                     float64\n",
      " 49  DepTimeBlk                               object \n",
      " 50  TaxiOut                                  float64\n",
      " 51  WheelsOff                                float64\n",
      " 52  WheelsOn                                 float64\n",
      " 53  TaxiIn                                   float64\n",
      " 54  CRSArrTime                               int64  \n",
      " 55  ArrDelay                                 float64\n",
      " 56  ArrDel15                                 float64\n",
      " 57  ArrivalDelayGroups                       float64\n",
      " 58  ArrTimeBlk                               object \n",
      " 59  DistanceGroup                            int64  \n",
      " 60  DivAirportLandings                       float64\n",
      "dtypes: bool(2), float64(19), int64(22), object(18)\n",
      "memory usage: 2.5+ GB\n",
      "None\n",
      "DataFrame Describe\n",
      "         CRSDepTime       DepTime  DepDelayMinutes      DepDelay  \\\n",
      "count  5.689512e+06  5.604132e+06     5.602937e+06  5.602937e+06   \n",
      "mean   1.330341e+03  1.334473e+03     1.346201e+01  1.014888e+01   \n",
      "std    4.913570e+02  5.048563e+02     4.420411e+01  4.536897e+01   \n",
      "min    1.000000e+00  1.000000e+00     0.000000e+00 -1.280000e+03   \n",
      "25%    9.150000e+02  9.160000e+02     0.000000e+00 -6.000000e+00   \n",
      "50%    1.323000e+03  1.327000e+03     0.000000e+00 -2.000000e+00   \n",
      "75%    1.735000e+03  1.745000e+03     7.000000e+00  7.000000e+00   \n",
      "max    2.359000e+03  2.400000e+03     2.625000e+03  2.625000e+03   \n",
      "\n",
      "            ArrTime  ArrDelayMinutes       AirTime  CRSElapsedTime  \\\n",
      "count  5.598897e+06     5.586619e+06  5.580241e+06    5.689506e+06   \n",
      "mean   1.462641e+03     1.368363e+01  1.101716e+02    1.389089e+02   \n",
      "std    5.405804e+02     4.402848e+01  7.058990e+01    7.288408e+01   \n",
      "min    1.000000e+00     0.000000e+00 -1.244000e+03   -9.900000e+01   \n",
      "25%    1.046000e+03     0.000000e+00  5.900000e+01    8.600000e+01   \n",
      "50%    1.503000e+03     0.000000e+00  9.200000e+01    1.200000e+02   \n",
      "75%    1.915000e+03     8.000000e+00  1.390000e+02    1.700000e+02   \n",
      "max    2.400000e+03     2.635000e+03  6.960000e+02    1.645000e+03   \n",
      "\n",
      "       ActualElapsedTime      Distance  ...       TaxiOut     WheelsOff  \\\n",
      "count       5.587165e+06  5.689512e+06  ...  5.594818e+06  5.594828e+06   \n",
      "mean        1.344377e+02  7.878012e+02  ...  1.704049e+01  1.357922e+03   \n",
      "std         7.258416e+01  5.943094e+02  ...  9.802525e+00  5.063342e+02   \n",
      "min        -1.228000e+03  1.600000e+01  ...  0.000000e+00  1.000000e+00   \n",
      "25%         8.200000e+01  3.490000e+02  ...  1.100000e+01  9.310000e+02   \n",
      "50%         1.170000e+02  6.280000e+02  ...  1.400000e+01  1.341000e+03   \n",
      "75%         1.650000e+02  1.024000e+03  ...  2.000000e+01  1.800000e+03   \n",
      "max         7.570000e+02  4.983000e+03  ...  1.394000e+03  2.400000e+03   \n",
      "\n",
      "           WheelsOn        TaxiIn    CRSArrTime      ArrDelay      ArrDel15  \\\n",
      "count  5.591963e+06  5.591953e+06  5.689512e+06  5.586619e+06  5.586619e+06   \n",
      "mean   1.458453e+03  7.364397e+00  1.482252e+03  5.416295e+00  1.948123e-01   \n",
      "std    5.365503e+02  5.893011e+00  5.212881e+02  4.746066e+01  3.960562e-01   \n",
      "min    1.000000e+00  0.000000e+00  1.000000e+00 -1.290000e+03  0.000000e+00   \n",
      "25%    1.042000e+03  4.000000e+00  1.058000e+03 -1.400000e+01  0.000000e+00   \n",
      "50%    1.500000e+03  6.000000e+00  1.512000e+03 -6.000000e+00  0.000000e+00   \n",
      "75%    1.910000e+03  9.000000e+00  1.917000e+03  8.000000e+00  0.000000e+00   \n",
      "max    2.400000e+03  2.590000e+02  2.400000e+03  2.635000e+03  1.000000e+00   \n",
      "\n",
      "       ArrivalDelayGroups  DistanceGroup  DivAirportLandings  \n",
      "count        5.586619e+06   5.689512e+06        5.689511e+06  \n",
      "mean        -1.636356e-01   3.625993e+00        3.568496e-03  \n",
      "std          2.350674e+00   2.342451e+00        1.112816e-01  \n",
      "min         -2.000000e+00   1.000000e+00        0.000000e+00  \n",
      "25%         -1.000000e+00   2.000000e+00        0.000000e+00  \n",
      "50%         -1.000000e+00   3.000000e+00        0.000000e+00  \n",
      "75%          0.000000e+00   5.000000e+00        0.000000e+00  \n",
      "max          1.200000e+01   1.100000e+01        9.000000e+00  \n",
      "\n",
      "[8 rows x 41 columns]\n",
      "DataFrame Head\n",
      "   FlightDate            Airline Origin Dest  Cancelled  Diverted  CRSDepTime  \\\n",
      "0  2018-01-23  Endeavor Air Inc.    ABY  ATL      False     False        1202   \n",
      "1  2018-01-24  Endeavor Air Inc.    ABY  ATL      False     False        1202   \n",
      "2  2018-01-25  Endeavor Air Inc.    ABY  ATL      False     False        1202   \n",
      "3  2018-01-26  Endeavor Air Inc.    ABY  ATL      False     False        1202   \n",
      "4  2018-01-27  Endeavor Air Inc.    ABY  ATL      False     False        1400   \n",
      "\n",
      "   DepTime  DepDelayMinutes  DepDelay  ...  WheelsOff  WheelsOn  TaxiIn  \\\n",
      "0   1157.0              0.0      -5.0  ...     1211.0    1249.0     7.0   \n",
      "1   1157.0              0.0      -5.0  ...     1210.0    1246.0    12.0   \n",
      "2   1153.0              0.0      -9.0  ...     1211.0    1251.0    11.0   \n",
      "3   1150.0              0.0     -12.0  ...     1207.0    1242.0    11.0   \n",
      "4   1355.0              0.0      -5.0  ...     1412.0    1448.0    11.0   \n",
      "\n",
      "   CRSArrTime  ArrDelay  ArrDel15  ArrivalDelayGroups  ArrTimeBlk  \\\n",
      "0        1304      -8.0       0.0                -1.0   1300-1359   \n",
      "1        1304      -6.0       0.0                -1.0   1300-1359   \n",
      "2        1304      -2.0       0.0                -1.0   1300-1359   \n",
      "3        1304     -11.0       0.0                -1.0   1300-1359   \n",
      "4        1500      -1.0       0.0                -1.0   1500-1559   \n",
      "\n",
      "   DistanceGroup  DivAirportLandings  \n",
      "0              1                 0.0  \n",
      "1              1                 0.0  \n",
      "2              1                 0.0  \n",
      "3              1                 0.0  \n",
      "4              1                 0.0  \n",
      "\n",
      "[5 rows x 61 columns]\n"
     ]
    }
   ],
   "source": [
    "ShowBasicDataFrameInfo(dataFrame18)"
   ]
  },
  {
   "cell_type": "code",
   "execution_count": 62,
   "metadata": {},
   "outputs": [
    {
     "name": "stdout",
     "output_type": "stream",
     "text": [
      "Before cleaning:\n",
      "There are 5,689,512 total entries for ArrDelayMinutes\n",
      "Of those, there are 102,893 NaN entries for ArrDelayMinutes\n",
      "\n",
      "After cleaning:\n",
      "There are 5,586,619 total entries for ArrDelayMinutes\n",
      "Of those, there are 0 NaN entries for ArrDelayMinutes\n"
     ]
    }
   ],
   "source": [
    "def PrintInvalidEntriesForArrDelayMinutes(dataFrame):\n",
    "    totalEntries = dataFrame.ArrDelayMinutes.shape[0]\n",
    "    numInvalidEntries = dataFrame.ArrDelayMinutes.isnull().sum()\n",
    "    print(f\"There are {totalEntries:,} total entries for ArrDelayMinutes\")\n",
    "    print(f\"Of those, there are {numInvalidEntries:,} NaN entries for ArrDelayMinutes\")\n",
    "\n",
    "def RemoveRowsWithInvalidDataForArrDelayMinutes(dataFrame):\n",
    "    print(\"Before cleaning:\")\n",
    "    PrintInvalidEntriesForArrDelayMinutes(dataFrame)\n",
    "    cleanedDataFrame = dataFrame.dropna(subset=['ArrDelayMinutes'])\n",
    "    print()\n",
    "\n",
    "    print(\"After cleaning:\")\n",
    "    PrintInvalidEntriesForArrDelayMinutes(cleanedDataFrame)\n",
    "    return cleanedDataFrame\n",
    "\n",
    "    \n",
    "dataFrame18 = RemoveRowsWithInvalidDataForArrDelayMinutes(dataFrame18)"
   ]
  },
  {
   "cell_type": "code",
   "execution_count": 63,
   "metadata": {},
   "outputs": [
    {
     "name": "stdout",
     "output_type": "stream",
     "text": [
      "Longest Delay: 2635.0 minutes\n",
      "Shortest Delay: 0.0 minutes\n"
     ]
    },
    {
     "data": {
      "image/png": "[encoded data removed]",
      "text/plain": [
       "<Figure size 640x480 with 1 Axes>"
      ]
     },
     "metadata": {},
     "output_type": "display_data"
    }
   ],
   "source": [
    "GetDelayValues(dataFrame18)\n",
    "\n",
    "def ShowHistArrDelayMinutes(dataFrame):\n",
    "    dataFrame.hist(column='ArrDelayMinutes')\n",
    "\n",
    "ShowHistArrDelayMinutes(dataFrame18)\n"
   ]
  },
  {
   "cell_type": "markdown",
   "metadata": {},
   "source": [
    "The number of on-time flights significantly overshadows the other data. We'll replot to show occurances other than on-time."
   ]
  },
  {
   "cell_type": "code",
   "execution_count": 66,
   "metadata": {},
   "outputs": [
    {
     "name": "stdout",
     "output_type": "stream",
     "text": [
      "There are 5,586,619 total entries for AddDelayMinutes.\n",
      "Of those, 3,576,135 are on-time or early flights.\n",
      "After removing on-time or early flights, there are now 2,010,484 total entries for ArrDelayMinutes\n"
     ]
    }
   ],
   "source": [
    "def RemoveEntriesForOnTimeOrEarlyFlights(dataFrame):\n",
    "    totalEntries = dataFrame.ArrDelayMinutes.shape[0]\n",
    "    print(f\"There are {totalEntries:,} total entries for AddDelayMinutes.\")\n",
    "    print(f\"Of those, {dataFrame.ArrDelayMinutes.value_counts()[0]:,} are on-time or early flights.\")\n",
    "\n",
    "    dataFrameClean = dataFrame[dataFrame.ArrDelayMinutes != 0]\n",
    "    totalEntries = dataFrameClean.ArrDelayMinutes.shape[0]\n",
    "\n",
    "    print(f\"After removing on-time or early flights, there are now {totalEntries:,} total entries for ArrDelayMinutes\")\n",
    "    return dataFrameClean\n",
    "\n",
    "cleanDataFrame = RemoveEntriesForOnTimeOrEarlyFlights(dataFrame18)"
   ]
  },
  {
   "cell_type": "code",
   "execution_count": 67,
   "metadata": {},
   "outputs": [
    {
     "data": {
      "image/png": "[encoded data removed]",
      "text/plain": [
       "<Figure size 640x480 with 1 Axes>"
      ]
     },
     "metadata": {},
     "output_type": "display_data"
    }
   ],
   "source": [
    "# Redo histogram\n",
    "ShowHistArrDelayMinutes(cleanDataFrame)"
   ]
  },
  {
   "cell_type": "markdown",
   "metadata": {},
   "source": [
    "Even after removing the on-time flights. Almost all delays were less than 4hrs long. This makes sense since even a 4hr delay would be very excessive."
   ]
  }
 ],
 "metadata": {
  "kernelspec": {
   "display_name": "Python 3.10.1 ('.venv': venv)",
   "language": "python",
   "name": "python3"
  },
  "language_info": {
   "codemirror_mode": {
    "name": "ipython",
    "version": 3
   },
   "file_extension": ".py",
   "mimetype": "text/x-python",
   "name": "python",
   "nbconvert_exporter": "python",
   "pygments_lexer": "ipython3",
   "version": "3.10.1"
  },
  "orig_nbformat": 4,
  "vscode": {
   "interpreter": {
    "hash": "26bdf0cbeaea474715fcbfcd51d26a7bfa7682dcaa2cc555ce85a41a5cf66fe2"
   }
  }
 },
 "nbformat": 4,
 "nbformat_minor": 2
}
