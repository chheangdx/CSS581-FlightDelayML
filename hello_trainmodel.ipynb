{
 "cells": [
  {
   "cell_type": "markdown",
   "metadata": {},
   "source": [
    "### Load Libraries"
   ]
  },
  {
   "cell_type": "code",
   "execution_count": 1,
   "metadata": {},
   "outputs": [],
   "source": [
    "import pandas as pd \n",
    "import numpy as np"
   ]
  },
  {
   "cell_type": "markdown",
   "metadata": {},
   "source": [
    "### Load Data from Parquet with Selected Columns"
   ]
  },
  {
   "cell_type": "code",
   "execution_count": 2,
   "metadata": {},
   "outputs": [],
   "source": [
    "data_files = [\"archive/Combined_Flights_2018.parquet\", \"archive/Combined_Flights_2019.parquet\"]\n",
    "columns_to_use = [\n",
    "    'Airline',\n",
    "    'Origin',\n",
    "    'Dest',\n",
    "    'CRSDepTime', \n",
    "    'Distance', \n",
    "    'Year', \n",
    "    'Quarter', \n",
    "    'Month', \n",
    "    'DayofMonth', \n",
    "    'DayOfWeek', \n",
    "    'DepTimeBlk', \n",
    "    'ArrTimeBlk', \n",
    "    'DistanceGroup',\n",
    "    'ArrDelayMinutes'\n",
    "    ]\n",
    "\n",
    "data_list = list()\n",
    "for i in range(len(data_files)):\n",
    "    #in this scenario, data_temp will be recycled after the loop is completed\n",
    "    data_temp = pd.read_parquet(data_files[i], columns = columns_to_use, engine=\"fastparquet\")\n",
    "    data_list.append(data_temp)\n",
    "df = pd.concat(data_list, ignore_index=True)\n",
    "data_list = list() #free the memory"
   ]
  },
  {
   "cell_type": "markdown",
   "metadata": {},
   "source": [
    "### Structure the Data"
   ]
  },
  {
   "cell_type": "code",
   "execution_count": 4,
   "metadata": {},
   "outputs": [
    {
     "name": "stdout",
     "output_type": "stream",
     "text": [
      "<class 'pandas.core.frame.DataFrame'>\n",
      "RangeIndex: 13781196 entries, 0 to 13781195\n",
      "Data columns (total 14 columns):\n",
      " #   Column           Dtype  \n",
      "---  ------           -----  \n",
      " 0   Airline          object \n",
      " 1   Origin           object \n",
      " 2   Dest             object \n",
      " 3   CRSDepTime       int64  \n",
      " 4   Distance         float64\n",
      " 5   Year             int64  \n",
      " 6   Quarter          int64  \n",
      " 7   Month            int64  \n",
      " 8   DayofMonth       int64  \n",
      " 9   DayOfWeek        int64  \n",
      " 10  DepTimeBlk       object \n",
      " 11  ArrTimeBlk       object \n",
      " 12  DistanceGroup    int64  \n",
      " 13  ArrDelayMinutes  float64\n",
      "dtypes: float64(2), int64(7), object(5)\n",
      "memory usage: 5.1 GB\n"
     ]
    }
   ],
   "source": [
    "df.info(memory_usage = \"deep\")\n",
    "\n",
    "#update data types appropriately\n",
    "\n",
    "#bin the data\n"
   ]
  },
  {
   "cell_type": "markdown",
   "metadata": {},
   "source": [
    "### Generate and Train ML Model, then Save the Model"
   ]
  },
  {
   "cell_type": "code",
   "execution_count": null,
   "metadata": {},
   "outputs": [],
   "source": []
  },
  {
   "cell_type": "markdown",
   "metadata": {},
   "source": [
    "### Function to determine best location and airline to take"
   ]
  },
  {
   "cell_type": "code",
   "execution_count": null,
   "metadata": {},
   "outputs": [],
   "source": [
    "def best_delay(data):\n",
    "    # for each record, use airline, departure city, arrival city, departure market, arrival market, actual/predicted delay to determine best airline and departure city\n",
    "\n",
    "    "
   ]
  },
  {
   "cell_type": "markdown",
   "metadata": {},
   "source": [
    "### Predict against 2022"
   ]
  },
  {
   "cell_type": "code",
   "execution_count": null,
   "metadata": {},
   "outputs": [],
   "source": [
    "# the model is already trained, we do not need to keep the training data\n",
    "df = pd.DataFrame()\n",
    "\n",
    "# load the 2022 data\n",
    "combinedFlights2022 = \"archive/Combined_Flights_2022.parquet\"\n",
    "df = pd.read_parquet(combinedFlights2022, columns = columns_to_use, engine=\"fastparquet\")\n",
    "# NOTE: if we are doing 2021+2022 data instead, we need to concatentate the data\n",
    "\n",
    "# run the data through the ML model to predict\n",
    "\n",
    "# take predicted delay and select best flight\n"
   ]
  },
  {
   "cell_type": "markdown",
   "metadata": {},
   "source": [
    "### Use the Prediction Results for Performance Analysis"
   ]
  },
  {
   "cell_type": "code",
   "execution_count": null,
   "metadata": {},
   "outputs": [],
   "source": []
  }
 ],
 "metadata": {
  "interpreter": {
   "hash": "31f2aee4e71d21fbe5cf8b01ff0e069b9275f58929596ceb00d14d90e3e16cd6"
  },
  "kernelspec": {
   "display_name": "Python 3.9.6 64-bit",
   "name": "python3"
  },
  "language_info": {
   "codemirror_mode": {
    "name": "ipython",
    "version": 3
   },
   "file_extension": ".py",
   "mimetype": "text/x-python",
   "name": "python",
   "nbconvert_exporter": "python",
   "pygments_lexer": "ipython3",
   "version": "3.9.6"
  },
  "orig_nbformat": 4
 },
 "nbformat": 4,
 "nbformat_minor": 2
}
