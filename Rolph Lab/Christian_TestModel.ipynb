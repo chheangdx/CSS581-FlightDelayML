{
 "cells": [
  {
   "cell_type": "markdown",
   "metadata": {},
   "source": [
    "The purpose of this file is to prototype model creation when using the output of the Sampling.ipynb"
   ]
  },
  {
   "cell_type": "code",
   "execution_count": 10,
   "metadata": {},
   "outputs": [],
   "source": [
    "import pandas as pd \n",
    "import numpy as np\n",
    "import matplotlib.pyplot as plt\n",
    "import sklearn as skl\n",
    "from sklearn.model_selection import cross_validate\n",
    "from sklearn.linear_model import LinearRegression\n",
    "from sklearn.preprocessing import StandardScaler\n",
    "from sklearn.ensemble import RandomForestClassifier\n",
    "from sklearn.naive_bayes import GaussianNB\n",
    "import imblearn as imbl\n",
    "from imblearn.ensemble import BalancedRandomForestClassifier\n",
    "from imblearn.ensemble import RUSBoostClassifier\n",
    "\n",
    "%matplotlib inline\n",
    "\n",
    "dataPath = \"Binned_Combined_Flights_2018-2019\""
   ]
  },
  {
   "cell_type": "code",
   "execution_count": 3,
   "metadata": {},
   "outputs": [
    {
     "name": "stdout",
     "output_type": "stream",
     "text": [
      "(5698059, 62)\n"
     ]
    }
   ],
   "source": [
    "data = pd.read_parquet(dataPath)"
   ]
  },
  {
   "cell_type": "code",
   "execution_count": 11,
   "metadata": {},
   "outputs": [
    {
     "name": "stdout",
     "output_type": "stream",
     "text": [
      "(5698059, 62)\n",
      "FlightDate\n",
      "Airline\n",
      "Origin\n",
      "Dest\n",
      "Cancelled\n",
      "Diverted\n",
      "CRSDepTime\n",
      "DepTime\n",
      "DepDelayMinutes\n",
      "DepDelay\n",
      "ArrTime\n",
      "ArrDelayMinutes\n",
      "AirTime\n",
      "CRSElapsedTime\n",
      "ActualElapsedTime\n",
      "Distance\n",
      "Year\n",
      "Quarter\n",
      "Month\n",
      "DayofMonth\n",
      "DayOfWeek\n",
      "Marketing_Airline_Network\n",
      "Operated_or_Branded_Code_Share_Partners\n",
      "DOT_ID_Marketing_Airline\n",
      "IATA_Code_Marketing_Airline\n",
      "Flight_Number_Marketing_Airline\n",
      "Operating_Airline\n",
      "DOT_ID_Operating_Airline\n",
      "IATA_Code_Operating_Airline\n",
      "Tail_Number\n",
      "Flight_Number_Operating_Airline\n",
      "OriginAirportID\n",
      "OriginAirportSeqID\n",
      "OriginCityMarketID\n",
      "OriginCityName\n",
      "OriginState\n",
      "OriginStateFips\n",
      "OriginStateName\n",
      "OriginWac\n",
      "DestAirportID\n",
      "DestAirportSeqID\n",
      "DestCityMarketID\n",
      "DestCityName\n",
      "DestState\n",
      "DestStateFips\n",
      "DestStateName\n",
      "DestWac\n",
      "DepDel15\n",
      "DepartureDelayGroups\n",
      "DepTimeBlk\n",
      "TaxiOut\n",
      "WheelsOff\n",
      "WheelsOn\n",
      "TaxiIn\n",
      "CRSArrTime\n",
      "ArrDelay\n",
      "ArrDel15\n",
      "ArrivalDelayGroups\n",
      "ArrTimeBlk\n",
      "DistanceGroup\n",
      "DivAirportLandings\n",
      "BinArrDelayMinutes\n"
     ]
    }
   ],
   "source": [
    "print(data.shape)\n",
    "for col in data.columns:\n",
    "    print(col)"
   ]
  },
  {
   "cell_type": "code",
   "execution_count": 36,
   "metadata": {},
   "outputs": [],
   "source": [
    "# Function to be used for models\n",
    "def CreateModelUsingCrossVal(trainx, trainy, mode):\n",
    "    if (mode == 'logistic_regression' or mode == 'lr'):\n",
    "        model = skl.linear_model.LogisticRegression(max_iter=1000)\n",
    "    elif (mode == 'naive_bayes' or mode == 'nb'):\n",
    "        model = skl.naive_bayes.GaussianNB()\n",
    "    elif (mode == 'random_forest' or mode == 'rf'):\n",
    "        model = skl.ensemble.RandomForestClassifier(max_depth=2)\n",
    "    elif (mode == 'balanced_random_forest' or mode == 'brf'):\n",
    "        model = BalancedRandomForestClassifier(max_depth=2)\n",
    "    elif (mode == 'adaboost' or mode == 'ab'):\n",
    "        model = RUSBoostClassifier()\n",
    "    \n",
    "    fit=model.fit(trainx,trainy)\n",
    "\n",
    "    desiredScores=['accuracy', 'precision_macro', 'recall_macro', 'f1_macro']\n",
    "\n",
    "    results=cross_validate(fit, trainx, trainy, cv=5, scoring=desiredScores, return_train_score=False)\n",
    "\n",
    "    print(f\"Model Type: {mode}\")\n",
    "    print(\"Scores from cross-validation are:\")\n",
    "    print(f'Accuracy: {results[\"test_accuracy\"].mean()}')\n",
    "    print(f'Precision: {results[\"test_precision_macro\"].mean()}')\n",
    "    print(f'Recall: {results[\"test_recall_macro\"].mean()}')\n",
    "    print(f'F-1 Score: {results[\"test_f1_macro\"].mean()}')"
   ]
  },
  {
   "cell_type": "code",
   "execution_count": 37,
   "metadata": {},
   "outputs": [
    {
     "name": "stdout",
     "output_type": "stream",
     "text": [
      "Model Type: naive_bayes\n",
      "Scores from cross-validation are:\n",
      "Accuracy: 0.14822995493939878\n",
      "Precision: 0.14435980618364183\n",
      "Recall: 0.14618760747951648\n",
      "F-1 Score: 0.10678071988942346\n"
     ]
    }
   ],
   "source": [
    "selectedFeatures = [\"CRSDepTime\", \"Distance\", \"Year\", \"Quarter\", \"DistanceGroup\"]\n",
    "\n",
    "xFeatures = data[selectedFeatures]\n",
    "yTarget = np.ravel(data['BinArrDelayMinutes'])\n",
    "\n",
    "CreateModelUsingCrossVal(xFeatures, yTarget, \"naive_bayes\")\n"
   ]
  }
 ],
 "metadata": {
  "kernelspec": {
   "display_name": "Python 3.10.1 ('.venv': venv)",
   "language": "python",
   "name": "python3"
  },
  "language_info": {
   "codemirror_mode": {
    "name": "ipython",
    "version": 3
   },
   "file_extension": ".py",
   "mimetype": "text/x-python",
   "name": "python",
   "nbconvert_exporter": "python",
   "pygments_lexer": "ipython3",
   "version": "3.10.1"
  },
  "orig_nbformat": 4,
  "vscode": {
   "interpreter": {
    "hash": "26bdf0cbeaea474715fcbfcd51d26a7bfa7682dcaa2cc555ce85a41a5cf66fe2"
   }
  }
 },
 "nbformat": 4,
 "nbformat_minor": 2
}
