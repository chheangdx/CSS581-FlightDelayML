{
 "cells": [
  {
   "cell_type": "markdown",
   "metadata": {},
   "source": [
    "The purpose of this file is to explore sampling methods for our rare class classification target of ArrDelayMinutes. The result should be that we are able to have the samples more equal than what exists currently."
   ]
  },
  {
   "cell_type": "code",
   "execution_count": 9,
   "metadata": {},
   "outputs": [
    {
     "name": "stdout",
     "output_type": "stream",
     "text": [
      "  FlightDate            Airline Origin Dest  Cancelled  Diverted  CRSDepTime  \\\n",
      "0 2018-01-23  Endeavor Air Inc.    ABY  ATL      False     False        1202   \n",
      "1 2018-01-24  Endeavor Air Inc.    ABY  ATL      False     False        1202   \n",
      "2 2018-01-25  Endeavor Air Inc.    ABY  ATL      False     False        1202   \n",
      "3 2018-01-26  Endeavor Air Inc.    ABY  ATL      False     False        1202   \n",
      "4 2018-01-27  Endeavor Air Inc.    ABY  ATL      False     False        1400   \n",
      "\n",
      "   DepTime  DepDelayMinutes  DepDelay  ...  WheelsOff  WheelsOn  TaxiIn  \\\n",
      "0   1157.0              0.0      -5.0  ...     1211.0    1249.0     7.0   \n",
      "1   1157.0              0.0      -5.0  ...     1210.0    1246.0    12.0   \n",
      "2   1153.0              0.0      -9.0  ...     1211.0    1251.0    11.0   \n",
      "3   1150.0              0.0     -12.0  ...     1207.0    1242.0    11.0   \n",
      "4   1355.0              0.0      -5.0  ...     1412.0    1448.0    11.0   \n",
      "\n",
      "   CRSArrTime  ArrDelay  ArrDel15  ArrivalDelayGroups  ArrTimeBlk  \\\n",
      "0        1304      -8.0       0.0                -1.0   1300-1359   \n",
      "1        1304      -6.0       0.0                -1.0   1300-1359   \n",
      "2        1304      -2.0       0.0                -1.0   1300-1359   \n",
      "3        1304     -11.0       0.0                -1.0   1300-1359   \n",
      "4        1500      -1.0       0.0                -1.0   1500-1559   \n",
      "\n",
      "   DistanceGroup  DivAirportLandings  \n",
      "0              1                 0.0  \n",
      "1              1                 0.0  \n",
      "2              1                 0.0  \n",
      "3              1                 0.0  \n",
      "4              1                 0.0  \n",
      "\n",
      "[5 rows x 61 columns]\n"
     ]
    }
   ],
   "source": [
    "import pandas as pd \n",
    "import numpy as np\n",
    "import matplotlib.pyplot as plt\n",
    "%matplotlib inline\n",
    "\n",
    "combinedFlights2018csv = \"../archive\\Combined_Flights_2018.csv\"\n",
    "combinedFlights2018parq = \"../archive/Combined_Flights_2018.parquet\"\n",
    "data = pd.read_parquet(combinedFlights2018parq)\n",
    "\n",
    "print(data.head());"
   ]
  }
 ],
 "metadata": {
  "kernelspec": {
   "display_name": "Python 3.10.1 ('.venv': venv)",
   "language": "python",
   "name": "python3"
  },
  "language_info": {
   "codemirror_mode": {
    "name": "ipython",
    "version": 3
   },
   "file_extension": ".py",
   "mimetype": "text/x-python",
   "name": "python",
   "nbconvert_exporter": "python",
   "pygments_lexer": "ipython3",
   "version": "3.10.1"
  },
  "orig_nbformat": 4,
  "vscode": {
   "interpreter": {
    "hash": "26bdf0cbeaea474715fcbfcd51d26a7bfa7682dcaa2cc555ce85a41a5cf66fe2"
   }
  }
 },
 "nbformat": 4,
 "nbformat_minor": 2
}
