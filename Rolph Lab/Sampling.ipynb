{
 "cells": [
  {
   "cell_type": "markdown",
   "metadata": {},
   "source": [
    "The purpose of this file is to explore sampling methods for our rare class classification target of ArrDelayMinutes. The result should be that we are able to have the samples more equal than what exists currently."
   ]
  },
  {
   "cell_type": "code",
   "execution_count": 2,
   "metadata": {},
   "outputs": [],
   "source": [
    "import pandas as pd \n",
    "import numpy as np\n",
    "import matplotlib.pyplot as plt\n",
    "%matplotlib inline\n",
    "\n",
    "combinedFlights2018csv = \"../archive\\Combined_Flights_2018.csv\"\n",
    "combinedFlights2018parq = \"../archive/Combined_Flights_2018.parquet\"\n",
    "combinedFlights2019parq = \"../archive/Combined_Flights_2019.parquet\""
   ]
  },
  {
   "cell_type": "code",
   "execution_count": 3,
   "metadata": {},
   "outputs": [],
   "source": [
    "data18 = pd.read_parquet(combinedFlights2018parq)"
   ]
  },
  {
   "cell_type": "code",
   "execution_count": 4,
   "metadata": {},
   "outputs": [],
   "source": [
    "data19 = pd.read_parquet(combinedFlights2019parq)"
   ]
  },
  {
   "cell_type": "code",
   "execution_count": 5,
   "metadata": {},
   "outputs": [
    {
     "name": "stdout",
     "output_type": "stream",
     "text": [
      "(5689512, 61)\n"
     ]
    }
   ],
   "source": [
    "df18 = data18\n",
    "print(data18.shape)"
   ]
  },
  {
   "cell_type": "code",
   "execution_count": 6,
   "metadata": {},
   "outputs": [
    {
     "name": "stdout",
     "output_type": "stream",
     "text": [
      "(8091684, 61)\n"
     ]
    }
   ],
   "source": [
    "df19 = data19\n",
    "print(data19.shape)"
   ]
  },
  {
   "cell_type": "code",
   "execution_count": 7,
   "metadata": {},
   "outputs": [],
   "source": [
    "def PrintInvalidEntriesForArrDelayMinutes(dataFrame):\n",
    "    totalEntries = dataFrame.ArrDelayMinutes.shape[0]\n",
    "    numInvalidEntries = dataFrame.ArrDelayMinutes.isnull().sum()\n",
    "    print(f\"There are {totalEntries:,} total entries for ArrDelayMinutes\")\n",
    "    print(f\"Of those, there are {numInvalidEntries:,} NaN entries for ArrDelayMinutes\")\n",
    "\n",
    "def RemoveRowsWithInvalidDataForArrDelayMinutes(dataFrame):\n",
    "    print(\"Before cleaning:\")\n",
    "    PrintInvalidEntriesForArrDelayMinutes(dataFrame)\n",
    "    cleanedDataFrame = dataFrame.dropna(subset=['ArrDelayMinutes'])\n",
    "    print()\n",
    "\n",
    "    print(\"After cleaning:\")\n",
    "    PrintInvalidEntriesForArrDelayMinutes(cleanedDataFrame)\n",
    "    return cleanedDataFrame\n",
    "    \n",
    "def ShowHistArrDelayMinutes(dataFrame):\n",
    "    histogram = dataFrame['ArrDelayMinutes'].plot(kind=\"hist\", bins=50, xlabel=\"test\")\n",
    "    histogram.set_title(\"ArrDelayMinutes Distribution\")\n",
    "    histogram.set_xlabel(\"Minutes of Delay\")\n",
    "    histogram.set_ylabel(\"Number of Occurances\")"
   ]
  },
  {
   "cell_type": "markdown",
   "metadata": {},
   "source": [
    "Do some data cleanup"
   ]
  },
  {
   "cell_type": "code",
   "execution_count": 8,
   "metadata": {},
   "outputs": [
    {
     "name": "stdout",
     "output_type": "stream",
     "text": [
      "Before cleaning:\n",
      "There are 5,689,512 total entries for ArrDelayMinutes\n",
      "Of those, there are 102,893 NaN entries for ArrDelayMinutes\n",
      "\n",
      "After cleaning:\n",
      "There are 5,586,619 total entries for ArrDelayMinutes\n",
      "Of those, there are 0 NaN entries for ArrDelayMinutes\n",
      "Before cleaning:\n",
      "There are 8,091,684 total entries for ArrDelayMinutes\n",
      "Of those, there are 174,420 NaN entries for ArrDelayMinutes\n",
      "\n",
      "After cleaning:\n",
      "There are 7,917,264 total entries for ArrDelayMinutes\n",
      "Of those, there are 0 NaN entries for ArrDelayMinutes\n"
     ]
    }
   ],
   "source": [
    "# Remove rows with invalid data\n",
    "df18 = RemoveRowsWithInvalidDataForArrDelayMinutes(df18)\n",
    "df19 = RemoveRowsWithInvalidDataForArrDelayMinutes(df19)"
   ]
  },
  {
   "cell_type": "markdown",
   "metadata": {},
   "source": [
    "Combine 2018 and 2019 data"
   ]
  },
  {
   "cell_type": "code",
   "execution_count": 9,
   "metadata": {},
   "outputs": [
    {
     "name": "stdout",
     "output_type": "stream",
     "text": [
      "(13503883, 61)\n"
     ]
    }
   ],
   "source": [
    "dfCombined = pd.concat([df18, df19], axis=0)\n",
    "print(dfCombined.shape)\n"
   ]
  },
  {
   "cell_type": "markdown",
   "metadata": {},
   "source": [
    "Show the distribution"
   ]
  },
  {
   "cell_type": "code",
   "execution_count": 10,
   "metadata": {},
   "outputs": [
    {
     "name": "stdout",
     "output_type": "stream",
     "text": [
      "Combined Histogram\n"
     ]
    },
    {
     "data": {
      "image/png": "[encoded data removed]",
      "text/plain": [
       "<Figure size 640x480 with 1 Axes>"
      ]
     },
     "metadata": {},
     "output_type": "display_data"
    }
   ],
   "source": [
    "print(\"Combined Histogram\")\n",
    "ShowHistArrDelayMinutes(dfCombined)"
   ]
  },
  {
   "cell_type": "markdown",
   "metadata": {},
   "source": [
    "Judging from our previous binning attempts without samples of 0, the bins were in sizes on average of 950,500. We'll remove the number of samples of value 0 to this size."
   ]
  },
  {
   "cell_type": "code",
   "execution_count": 12,
   "metadata": {},
   "outputs": [
    {
     "name": "stdout",
     "output_type": "stream",
     "text": [
      "Original shape: (13503883, 61)\n",
      "The number of samples of value 0 is: 8756324\n",
      "The number of samples not 0 is: 4747559\n",
      "The number of zero value samples kept is: 950500\n",
      "Shape of the processed dataframe is: (5698059, 61)\n"
     ]
    }
   ],
   "source": [
    "def GetDataFrameUndersampleValuesOfZero(df):\n",
    "    occurancesToKeep = 950500\n",
    "\n",
    "    # split into zero and non-zero helps\n",
    "    # make the calculation go faster\n",
    "    dfOnlyZero = df[df['ArrDelayMinutes']==0]\n",
    "    dfNotZero = df[df['ArrDelayMinutes']!=0]\n",
    "    numSamplesValueZero = len(dfOnlyZero)\n",
    "    numSamplesValueNotZero = len(dfNotZero)\n",
    "\n",
    "    print(f'Original shape: {df.shape}')\n",
    "    print(f'The number of samples of value 0 is: {numSamplesValueZero}')\n",
    "    print(f'The number of samples not 0 is: {numSamplesValueNotZero}')\n",
    "\n",
    "    # we're concatonating only the number of samples\n",
    "    # that we want to keep\n",
    "    dfUnderSampledToKeep = dfOnlyZero.sample(n=occurancesToKeep)\n",
    "    print(f'The number of zero value samples kept is: {len(dfUnderSampledToKeep)}')\n",
    "    dfProcessed = pd.concat([dfNotZero, dfUnderSampledToKeep], axis=0)\n",
    "    print(f'Shape of the processed dataframe is: {dfProcessed.shape}')\n",
    "\n",
    "    return dfProcessed    \n",
    "\n",
    "dfUndersampled = GetDataFrameUndersampleValuesOfZero(dfCombined)\n"
   ]
  },
  {
   "cell_type": "markdown",
   "metadata": {},
   "source": [
    "There are over 8 million entries of early or on-time flights. That's about 65% of our data. We'll recduce the number of samples of this type down to around 1 million to be equal with our other bins."
   ]
  },
  {
   "cell_type": "code",
   "execution_count": 13,
   "metadata": {},
   "outputs": [
    {
     "data": {
      "image/png": "[encoded data removed]",
      "text/plain": [
       "<Figure size 640x480 with 1 Axes>"
      ]
     },
     "metadata": {},
     "output_type": "display_data"
    }
   ],
   "source": [
    "# View the distribution again after undersampling\n",
    "ShowHistArrDelayMinutes(dfUndersampled)"
   ]
  },
  {
   "cell_type": "code",
   "execution_count": 17,
   "metadata": {},
   "outputs": [
    {
     "data": {
      "text/plain": [
       "1    1231539\n",
       "0    1183167\n",
       "4    1130155\n",
       "3    1091468\n",
       "2    1061730\n",
       "Name: ArrDelayMinutes, dtype: int64"
      ]
     },
     "execution_count": 17,
     "metadata": {},
     "output_type": "execute_result"
    }
   ],
   "source": [
    "binArrDelayMinutes = pd.qcut(dfUndersampled.ArrDelayMinutes, q=5, labels=[0,1,2,3,4])\n",
    "binArrDelayMinutes.value_counts()"
   ]
  },
  {
   "cell_type": "code",
   "execution_count": 18,
   "metadata": {},
   "outputs": [
    {
     "name": "stdout",
     "output_type": "stream",
     "text": [
      "(5698059, 62)\n",
      "1    1231539\n",
      "0    1183167\n",
      "4    1130155\n",
      "3    1091468\n",
      "2    1061730\n",
      "Name: BinArrDelayMinutes, dtype: int64\n"
     ]
    }
   ],
   "source": [
    "# Add bin values back to DataFrame\n",
    "dfUndersampled['BinArrDelayMinutes'] = binArrDelayMinutes\n",
    "print(dfUndersampled.shape)\n",
    "print(dfUndersampled['BinArrDelayMinutes'].value_counts())"
   ]
  },
  {
   "cell_type": "code",
   "execution_count": 19,
   "metadata": {},
   "outputs": [],
   "source": [
    "# Send result to parquet\n",
    "dfUndersampled.to_parquet(\"Binned_Combined_Flights_2018-2019\")"
   ]
  }
 ],
 "metadata": {
  "kernelspec": {
   "display_name": "Python 3.10.1 ('.venv': venv)",
   "language": "python",
   "name": "python3"
  },
  "language_info": {
   "codemirror_mode": {
    "name": "ipython",
    "version": 3
   },
   "file_extension": ".py",
   "mimetype": "text/x-python",
   "name": "python",
   "nbconvert_exporter": "python",
   "pygments_lexer": "ipython3",
   "version": "3.10.1"
  },
  "orig_nbformat": 4,
  "vscode": {
   "interpreter": {
    "hash": "26bdf0cbeaea474715fcbfcd51d26a7bfa7682dcaa2cc555ce85a41a5cf66fe2"
   }
  }
 },
 "nbformat": 4,
 "nbformat_minor": 2
}
