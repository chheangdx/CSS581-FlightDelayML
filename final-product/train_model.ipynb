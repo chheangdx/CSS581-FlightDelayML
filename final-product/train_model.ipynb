{
 "cells": [
  {
   "cell_type": "markdown",
   "metadata": {},
   "source": [
    "# Train Model\n",
    "## i. Overview\n",
    "The Model Trainer is used to generate and train a ML model for our use case. The data is assumed to already be preprocessed and do not need much additional manipulation.\n",
    "\n",
    "## ii. Special Notes\n",
    "1. The file is always expected to be loaded as a dense matrix. For better processing speed, we can convert the dense matrix into a sparse matrix.\n",
    "2. We need to figure out how to improve processing speed while keeping up performance.\n",
    "\n",
    "## iii. Methodology\n",
    "### Selected Algorithm\n",
    "\n",
    "### Additional\n",
    "\n",
    "\n",
    "\n"
   ]
  },
  {
   "cell_type": "code",
   "execution_count": 3,
   "metadata": {},
   "outputs": [],
   "source": [
    "#import libraries\n",
    "import pandas as pd\n",
    "import numpy as np\n",
    "import sklearn as skl\n",
    "from sklearn.model_selection import cross_validate\n",
    "from sklearn.linear_model import LinearRegression\n",
    "from sklearn.ensemble import RandomForestClassifier\n",
    "from sklearn.naive_bayes import GaussianNB\n",
    "import imblearn as imbl\n",
    "from imblearn.ensemble import BalancedRandomForestClassifier\n",
    "from imblearn.ensemble import RUSBoostClassifier\n",
    "\n",
    "trainDataPath = 'data/trainData_2018-2019'\n",
    "trainDataPathBinaryTarget = 'data/trainDataBinaryTarget_2018-2019'\n",
    "\n",
    "selectedFeatures = [\n",
    "    'Airline',\n",
    "    'Origin',\n",
    "    'Dest',\n",
    "    'CRSDepTime', \n",
    "    'Distance', \n",
    "    'Year', \n",
    "    'Quarter', \n",
    "    'Month', \n",
    "    'DayofMonth', \n",
    "    'DayOfWeek', \n",
    "    'DepTimeBlk', \n",
    "    'ArrTimeBlk', \n",
    "    'DistanceGroup'\n",
    "    ]"
   ]
  },
  {
   "cell_type": "code",
   "execution_count": 4,
   "metadata": {},
   "outputs": [
    {
     "name": "stdout",
     "output_type": "stream",
     "text": [
      "Train data shape: (5697559, 15)\n",
      "Binary target train data shape: (13503883, 15)\n"
     ]
    }
   ],
   "source": [
    "#load data and set up for training\n",
    "trainData = pd.read_parquet(trainDataPath, engine='fastparquet')\n",
    "print(f'Train data shape: {trainData.shape}')\n",
    "\n",
    "trainDataBinaryTarget = pd.read_parquet(trainDataPathBinaryTarget, engine='fastparquet')\n",
    "print(f'Binary target train data shape: {trainDataBinaryTarget.shape}')"
   ]
  },
  {
   "cell_type": "code",
   "execution_count": 5,
   "metadata": {},
   "outputs": [],
   "source": [
    "#define any relevant functions\n",
    "\n",
    "# SaveModel\n",
    "#\n",
    "# function that can be used to save the model that we just built\n",
    "# after fitting the model, save it to filename\n",
    "import pickle\n",
    "def SaveModel(model, filename):\n",
    "    pickle.dump(model, open(filename, 'wb'))\n",
    "\n",
    "#CreateModelUsingCrossVal\n",
    "#\n",
    "#Creates a model given the input of\n",
    "#x features, y target, and which type of\n",
    "#model to run. Then uses cross validation\n",
    "#to run that model and prints out the scores.\n",
    "def CreateModelUsingCrossVal(trainx, trainy, mode):\n",
    "    if (mode == 'logistic_regression' or mode == 'lr'):\n",
    "        model = skl.linear_model.LogisticRegression(max_iter=1000)\n",
    "    elif (mode == 'naive_bayes' or mode == 'nb'):\n",
    "        model = skl.naive_bayes.GaussianNB()\n",
    "    elif (mode == 'random_forest' or mode == 'rf'):\n",
    "        model = skl.ensemble.RandomForestClassifier(max_depth=2)\n",
    "    elif (mode == 'balanced_random_forest' or mode == 'brf'):\n",
    "        model = BalancedRandomForestClassifier(max_depth=2)\n",
    "    elif (mode == 'adaboost' or mode == 'ab'):\n",
    "        model = RUSBoostClassifier()\n",
    "    \n",
    "    model.fit(trainx,trainy)\n",
    "    SaveModel(model, \"models/multiclass_model_\"+mode+\".pkl\")\n",
    "\n",
    "    desiredScores=['accuracy', 'precision_macro', 'recall_macro', 'f1_macro']\n",
    "\n",
    "    results=cross_validate(model, trainx, trainy, cv=5, scoring=desiredScores, return_train_score=False)\n",
    "\n",
    "    print(f\"Model Type: {mode}\")\n",
    "    print(\"Scores from cross-validation are:\")\n",
    "    print(f'Accuracy: {results[\"test_accuracy\"].mean()}')\n",
    "    print(f'Precision: {results[\"test_precision_macro\"].mean()}')\n",
    "    print(f'Recall: {results[\"test_recall_macro\"].mean()}')\n",
    "    print(f'F-1 Score: {results[\"test_f1_macro\"].mean()}')\n",
    "\n",
    "# Function to be used for models\n",
    "def BinaryTargetCreateModelUsingCrossVal(trainx, trainy, mode):\n",
    "    if (mode == 'logistic_regression' or mode == 'lr'):\n",
    "        model = skl.linear_model.LogisticRegression(max_iter=1000)\n",
    "    elif (mode == 'naive_bayes' or mode == 'nb'):\n",
    "        model = skl.naive_bayes.GaussianNB()\n",
    "    elif (mode == 'random_forest' or mode == 'rf'):\n",
    "        model = skl.ensemble.RandomForestClassifier(max_depth=2)\n",
    "    elif (mode == 'balanced_random_forest' or mode == 'brf'):\n",
    "        model = BalancedRandomForestClassifier(max_depth=2)\n",
    "    elif (mode == 'adaboost' or mode == 'ab'):\n",
    "        model = RUSBoostClassifier()\n",
    "    \n",
    "    fit=model.fit(trainx,trainy)\n",
    "    model.fit(trainx,trainy)\n",
    "    SaveModel(model, \"models/binary_model_\"+mode+\".pkl\")\n",
    "\n",
    "    desiredScores=['accuracy', 'precision', 'recall', 'f1', 'roc_auc']\n",
    "\n",
    "    results=cross_validate(model, trainx, trainy, cv=5, scoring=desiredScores, return_train_score=False)\n",
    "\n",
    "    print(f\"Model Type: {mode}\")\n",
    "    print(\"Scores from cross-validation are:\")\n",
    "    print(f'Accuracy: {results[\"test_accuracy\"].mean()}')\n",
    "    print(f'Precision: {results[\"test_precision\"].mean()}')\n",
    "    print(f'Recall: {results[\"test_recall\"].mean()}')\n",
    "    print(f'F-1 Score: {results[\"test_f1\"].mean()}')\n",
    "    print(f'AUC: {results[\"test_roc_auc\"].mean()}')"
   ]
  },
  {
   "cell_type": "code",
   "execution_count": 7,
   "metadata": {},
   "outputs": [
    {
     "name": "stdout",
     "output_type": "stream",
     "text": [
      "MultiClass Evaluation\n",
      "Model Type: naive_bayes\n",
      "Scores from cross-validation are:\n",
      "Accuracy: 0.19063655341326452\n",
      "Precision: 0.17133174718571303\n",
      "Recall: 0.18882033687287042\n",
      "F-1 Score: 0.1395492648544096\n",
      "\n",
      "Binary Class Evaluation\n",
      "Model Type: naive_bayes\n",
      "Scores from cross-validation are:\n",
      "Accuracy: 0.6074798637203889\n",
      "Precision: 0.42012410142643086\n",
      "Recall: 0.30514585656887355\n",
      "F-1 Score: 0.35269973709281305\n",
      "AUC: 0.5773607483268706\n"
     ]
    }
   ],
   "source": [
    "#build model 1\n",
    "xFeatures = trainData[selectedFeatures]\n",
    "yTarget = np.ravel(trainData['BinArrDelayMinutes'])\n",
    "\n",
    "print('MultiClass Evaluation')\n",
    "CreateModelUsingCrossVal(xFeatures, yTarget, \"naive_bayes\")\n",
    "print()\n",
    "\n",
    "xFeatures = trainDataBinaryTarget[selectedFeatures]\n",
    "yTarget = np.ravel(trainDataBinaryTarget['BinaryArrDelayMinutes'])\n",
    "print('Binary Class Evaluation')\n",
    "BinaryTargetCreateModelUsingCrossVal(xFeatures, yTarget, \"naive_bayes\")"
   ]
  },
  {
   "cell_type": "code",
   "execution_count": 9,
   "metadata": {},
   "outputs": [
    {
     "name": "stdout",
     "output_type": "stream",
     "text": [
      "MultiClass Evaluation\n",
      "Model Type: logistic_regression\n",
      "Scores from cross-validation are:\n",
      "Accuracy: 0.24674000000000001\n",
      "Precision: 0.22455608099345886\n",
      "Recall: 0.2400259193942041\n",
      "F-1 Score: 0.19156020407977556\n",
      "\n",
      "Binary Class Evaluation\n"
     ]
    },
    {
     "name": "stderr",
     "output_type": "stream",
     "text": [
      "c:\\Users\\chrolph\\Projects\\CSS 581\\CSS581-FlightDelayML\\.venv\\lib\\site-packages\\sklearn\\metrics\\_classification.py:1334: UndefinedMetricWarning: Precision is ill-defined and being set to 0.0 in labels with no predicted samples. Use `zero_division` parameter to control this behavior.\n",
      "  _warn_prf(average, modifier, msg_start, len(result))\n",
      "c:\\Users\\chrolph\\Projects\\CSS 581\\CSS581-FlightDelayML\\.venv\\lib\\site-packages\\sklearn\\metrics\\_classification.py:1334: UndefinedMetricWarning: Precision is ill-defined and being set to 0.0 in labels with no predicted samples. Use `zero_division` parameter to control this behavior.\n",
      "  _warn_prf(average, modifier, msg_start, len(result))\n"
     ]
    },
    {
     "name": "stdout",
     "output_type": "stream",
     "text": [
      "Model Type: logistic_regression\n",
      "Scores from cross-validation are:\n",
      "Accuracy: 0.65071\n",
      "Precision: 0.3753597605633857\n",
      "Recall: 0.49999894627781105\n",
      "F-1 Score: 0.3942274096637292\n"
     ]
    },
    {
     "name": "stderr",
     "output_type": "stream",
     "text": [
      "c:\\Users\\chrolph\\Projects\\CSS 581\\CSS581-FlightDelayML\\.venv\\lib\\site-packages\\sklearn\\metrics\\_classification.py:1334: UndefinedMetricWarning: Precision is ill-defined and being set to 0.0 in labels with no predicted samples. Use `zero_division` parameter to control this behavior.\n",
      "  _warn_prf(average, modifier, msg_start, len(result))\n"
     ]
    }
   ],
   "source": [
    "#build model 2\n",
    "smallerSampleDataframe = trainData.sample(n=100000)\n",
    "xFeatures = smallerSampleDataframe[selectedFeatures]\n",
    "yTarget = np.ravel(smallerSampleDataframe['BinArrDelayMinutes'])\n",
    "\n",
    "print('MultiClass Evaluation')\n",
    "CreateModelUsingCrossVal(xFeatures, yTarget, \"logistic_regression\")\n",
    "print()\n",
    "\n",
    "smallerSampleDataframe = trainDataBinaryTarget.sample(n=100000)\n",
    "xFeatures = smallerSampleDataframe[selectedFeatures]\n",
    "yTarget = np.ravel(smallerSampleDataframe['BinaryArrDelayMinutes'])\n",
    "print('Binary Class Evaluation')\n",
    "CreateModelUsingCrossVal(xFeatures, yTarget, \"logistic_regression\")\n"
   ]
  },
  {
   "cell_type": "code",
   "execution_count": 10,
   "metadata": {},
   "outputs": [
    {
     "name": "stdout",
     "output_type": "stream",
     "text": [
      "MultiClass Evaluation\n"
     ]
    },
    {
     "name": "stderr",
     "output_type": "stream",
     "text": [
      "c:\\Users\\chrolph\\Projects\\CSS 581\\CSS581-FlightDelayML\\.venv\\lib\\site-packages\\sklearn\\metrics\\_classification.py:1334: UndefinedMetricWarning: Precision is ill-defined and being set to 0.0 in labels with no predicted samples. Use `zero_division` parameter to control this behavior.\n",
      "  _warn_prf(average, modifier, msg_start, len(result))\n",
      "c:\\Users\\chrolph\\Projects\\CSS 581\\CSS581-FlightDelayML\\.venv\\lib\\site-packages\\sklearn\\metrics\\_classification.py:1334: UndefinedMetricWarning: Precision is ill-defined and being set to 0.0 in labels with no predicted samples. Use `zero_division` parameter to control this behavior.\n",
      "  _warn_prf(average, modifier, msg_start, len(result))\n",
      "c:\\Users\\chrolph\\Projects\\CSS 581\\CSS581-FlightDelayML\\.venv\\lib\\site-packages\\sklearn\\metrics\\_classification.py:1334: UndefinedMetricWarning: Precision is ill-defined and being set to 0.0 in labels with no predicted samples. Use `zero_division` parameter to control this behavior.\n",
      "  _warn_prf(average, modifier, msg_start, len(result))\n",
      "c:\\Users\\chrolph\\Projects\\CSS 581\\CSS581-FlightDelayML\\.venv\\lib\\site-packages\\sklearn\\metrics\\_classification.py:1334: UndefinedMetricWarning: Precision is ill-defined and being set to 0.0 in labels with no predicted samples. Use `zero_division` parameter to control this behavior.\n",
      "  _warn_prf(average, modifier, msg_start, len(result))\n",
      "c:\\Users\\chrolph\\Projects\\CSS 581\\CSS581-FlightDelayML\\.venv\\lib\\site-packages\\sklearn\\metrics\\_classification.py:1334: UndefinedMetricWarning: Precision is ill-defined and being set to 0.0 in labels with no predicted samples. Use `zero_division` parameter to control this behavior.\n",
      "  _warn_prf(average, modifier, msg_start, len(result))\n"
     ]
    },
    {
     "name": "stdout",
     "output_type": "stream",
     "text": [
      "Model Type: random_forest\n",
      "Scores from cross-validation are:\n",
      "Accuracy: 0.24645999999999998\n",
      "Precision: 0.1461519602032994\n",
      "Recall: 0.2412057481158175\n",
      "F-1 Score: 0.17424708788716242\n",
      "\n",
      "Binary Class Evaluation\n"
     ]
    },
    {
     "name": "stderr",
     "output_type": "stream",
     "text": [
      "c:\\Users\\chrolph\\Projects\\CSS 581\\CSS581-FlightDelayML\\.venv\\lib\\site-packages\\sklearn\\metrics\\_classification.py:1334: UndefinedMetricWarning: Precision is ill-defined and being set to 0.0 in labels with no predicted samples. Use `zero_division` parameter to control this behavior.\n",
      "  _warn_prf(average, modifier, msg_start, len(result))\n",
      "c:\\Users\\chrolph\\Projects\\CSS 581\\CSS581-FlightDelayML\\.venv\\lib\\site-packages\\sklearn\\metrics\\_classification.py:1334: UndefinedMetricWarning: Precision is ill-defined and being set to 0.0 in labels with no predicted samples. Use `zero_division` parameter to control this behavior.\n",
      "  _warn_prf(average, modifier, msg_start, len(result))\n",
      "c:\\Users\\chrolph\\Projects\\CSS 581\\CSS581-FlightDelayML\\.venv\\lib\\site-packages\\sklearn\\metrics\\_classification.py:1334: UndefinedMetricWarning: Precision is ill-defined and being set to 0.0 in labels with no predicted samples. Use `zero_division` parameter to control this behavior.\n",
      "  _warn_prf(average, modifier, msg_start, len(result))\n",
      "c:\\Users\\chrolph\\Projects\\CSS 581\\CSS581-FlightDelayML\\.venv\\lib\\site-packages\\sklearn\\metrics\\_classification.py:1334: UndefinedMetricWarning: Precision is ill-defined and being set to 0.0 in labels with no predicted samples. Use `zero_division` parameter to control this behavior.\n",
      "  _warn_prf(average, modifier, msg_start, len(result))\n"
     ]
    },
    {
     "name": "stdout",
     "output_type": "stream",
     "text": [
      "Model Type: logistic_regression\n",
      "Scores from cross-validation are:\n",
      "Accuracy: 0.6488\n",
      "Precision: 0.32440324391219566\n",
      "Recall: 0.49999229346485824\n",
      "F-1 Score: 0.3934983015721468\n"
     ]
    }
   ],
   "source": [
    "#build model 3\n",
    "smallerSampleDataframe = trainData.sample(n=100000)\n",
    "xFeatures = smallerSampleDataframe[selectedFeatures]\n",
    "yTarget = np.ravel(smallerSampleDataframe['BinArrDelayMinutes'])\n",
    "\n",
    "print('MultiClass Evaluation')\n",
    "CreateModelUsingCrossVal(xFeatures, yTarget, \"random_forest\")\n",
    "print()\n",
    "\n",
    "smallerSampleDataframe = trainDataBinaryTarget.sample(n=100000)\n",
    "xFeatures = smallerSampleDataframe[selectedFeatures]\n",
    "yTarget = np.ravel(smallerSampleDataframe['BinaryArrDelayMinutes'])\n",
    "print('Binary Class Evaluation')\n",
    "CreateModelUsingCrossVal(xFeatures, yTarget, \"logistic_regression\")"
   ]
  }
 ],
 "metadata": {
  "kernelspec": {
   "display_name": "Python 3.10.1 ('.venv': venv)",
   "language": "python",
   "name": "python3"
  },
  "language_info": {
   "codemirror_mode": {
    "name": "ipython",
    "version": 3
   },
   "file_extension": ".py",
   "mimetype": "text/x-python",
   "name": "python",
   "nbconvert_exporter": "python",
   "pygments_lexer": "ipython3",
   "version": "3.10.1"
  },
  "orig_nbformat": 4,
  "vscode": {
   "interpreter": {
    "hash": "26bdf0cbeaea474715fcbfcd51d26a7bfa7682dcaa2cc555ce85a41a5cf66fe2"
   }
  }
 },
 "nbformat": 4,
 "nbformat_minor": 2
}
