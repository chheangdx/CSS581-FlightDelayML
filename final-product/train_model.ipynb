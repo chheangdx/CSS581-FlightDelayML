{
 "cells": [
  {
   "cell_type": "markdown",
   "metadata": {},
   "source": [
    "# Train Model\n",
    "## i. Overview\n",
    "The Model Trainer is used to generate and train a ML model for our use case. The data is assumed to already be preprocessed and do not need much additional manipulation.\n",
    "\n",
    "## ii. Special Notes\n",
    "1. The file is always expected to be loaded as a dense matrix. For better processing speed, we can convert the dense matrix into a sparse matrix.\n",
    "2. We need to figure out how to improve processing speed while keeping up performance.\n",
    "\n",
    "## iii. Methodology\n",
    "### Selected Algorithm\n",
    "\n",
    "### Additional\n",
    "\n",
    "\n",
    "\n"
   ]
  },
  {
   "cell_type": "code",
   "execution_count": 10,
   "metadata": {},
   "outputs": [],
   "source": [
    "#import libraries\n",
    "import pandas as pd\n",
    "import numpy as np\n",
    "import sklearn as skl\n",
    "from sklearn.model_selection import cross_validate\n",
    "from sklearn.linear_model import LinearRegression\n",
    "from sklearn.ensemble import RandomForestClassifier\n",
    "from sklearn.naive_bayes import GaussianNB\n",
    "import imblearn as imbl\n",
    "from imblearn.ensemble import BalancedRandomForestClassifier\n",
    "from imblearn.ensemble import RUSBoostClassifier\n",
    "\n",
    "trainDataPath = 'data/trainData_2018-2019'\n",
    "\n",
    "selectedFeatures = [\n",
    "    'Airline',\n",
    "    'Origin',\n",
    "    'Dest',\n",
    "    'CRSDepTime', \n",
    "    'Distance', \n",
    "    'Year', \n",
    "    'Quarter', \n",
    "    'Month', \n",
    "    'DayofMonth', \n",
    "    'DayOfWeek', \n",
    "    'DepTimeBlk', \n",
    "    'ArrTimeBlk', \n",
    "    'DistanceGroup'\n",
    "    ]"
   ]
  },
  {
   "cell_type": "code",
   "execution_count": 11,
   "metadata": {},
   "outputs": [
    {
     "name": "stdout",
     "output_type": "stream",
     "text": [
      "Train data shape: (5697559, 15)\n"
     ]
    }
   ],
   "source": [
    "#load data and set up for training\n",
    "trainData = pd.read_parquet(trainDataPath, engine='fastparquet')\n",
    "print(f'Train data shape: {trainData.shape}')"
   ]
  },
  {
   "cell_type": "code",
   "execution_count": 12,
   "metadata": {},
   "outputs": [],
   "source": [
    "#define any relevant functions\n",
    "\n",
    "#CreateModelUsingCrossVal\n",
    "#\n",
    "#Creates a model given the input of\n",
    "#x features, y target, and which type of\n",
    "#model to run. Then uses cross validation\n",
    "#to run that model and prints out the scores.\n",
    "def CreateModelUsingCrossVal(trainx, trainy, mode):\n",
    "    if (mode == 'logistic_regression' or mode == 'lr'):\n",
    "        model = skl.linear_model.LogisticRegression(max_iter=1000)\n",
    "    elif (mode == 'naive_bayes' or mode == 'nb'):\n",
    "        model = skl.naive_bayes.GaussianNB()\n",
    "    elif (mode == 'random_forest' or mode == 'rf'):\n",
    "        model = skl.ensemble.RandomForestClassifier(max_depth=2)\n",
    "    elif (mode == 'balanced_random_forest' or mode == 'brf'):\n",
    "        model = BalancedRandomForestClassifier(max_depth=2)\n",
    "    elif (mode == 'adaboost' or mode == 'ab'):\n",
    "        model = RUSBoostClassifier()\n",
    "    \n",
    "    fit=model.fit(trainx,trainy)\n",
    "\n",
    "    desiredScores=['accuracy', 'precision_macro', 'recall_macro', 'f1_macro']\n",
    "\n",
    "    results=cross_validate(fit, trainx, trainy, cv=5, scoring=desiredScores, return_train_score=False)\n",
    "\n",
    "    print(f\"Model Type: {mode}\")\n",
    "    print(\"Scores from cross-validation are:\")\n",
    "    print(f'Accuracy: {results[\"test_accuracy\"].mean()}')\n",
    "    print(f'Precision: {results[\"test_precision_macro\"].mean()}')\n",
    "    print(f'Recall: {results[\"test_recall_macro\"].mean()}')\n",
    "    print(f'F-1 Score: {results[\"test_f1_macro\"].mean()}')"
   ]
  },
  {
   "cell_type": "code",
   "execution_count": 13,
   "metadata": {},
   "outputs": [
    {
     "name": "stdout",
     "output_type": "stream",
     "text": [
      "Model Type: naive_bayes\n",
      "Scores from cross-validation are:\n",
      "Accuracy: 0.19063655341326452\n",
      "Precision: 0.17133174718571303\n",
      "Recall: 0.18882033687287042\n",
      "F-1 Score: 0.1395492648544096\n"
     ]
    }
   ],
   "source": [
    "#build model 1\n",
    "xFeatures = trainData[selectedFeatures]\n",
    "yTarget = np.ravel(trainData['BinArrDelayMinutes'])\n",
    "\n",
    "CreateModelUsingCrossVal(xFeatures, yTarget, \"naive_bayes\")"
   ]
  },
  {
   "cell_type": "code",
   "execution_count": 19,
   "metadata": {},
   "outputs": [
    {
     "name": "stdout",
     "output_type": "stream",
     "text": [
      "Model Type: logistic_regression\n",
      "Scores from cross-validation are:\n",
      "Accuracy: 0.24611\n",
      "Precision: 0.23725487225003478\n",
      "Recall: 0.2398399965445192\n",
      "F-1 Score: 0.19757051547384644\n"
     ]
    }
   ],
   "source": [
    "#build model 2\n",
    "smallerSampleDataframe = trainData.sample(n=100000)\n",
    "xFeatures = smallerSampleDataframe[selectedFeatures]\n",
    "yTarget = np.ravel(smallerSampleDataframe['BinArrDelayMinutes'])\n",
    "\n",
    "CreateModelUsingCrossVal(xFeatures, yTarget, \"logistic_regression\")"
   ]
  },
  {
   "cell_type": "code",
   "execution_count": 20,
   "metadata": {},
   "outputs": [
    {
     "name": "stderr",
     "output_type": "stream",
     "text": [
      "c:\\Users\\chrolph\\Projects\\CSS 581\\CSS581-FlightDelayML\\.venv\\lib\\site-packages\\sklearn\\metrics\\_classification.py:1334: UndefinedMetricWarning: Precision is ill-defined and being set to 0.0 in labels with no predicted samples. Use `zero_division` parameter to control this behavior.\n",
      "  _warn_prf(average, modifier, msg_start, len(result))\n",
      "c:\\Users\\chrolph\\Projects\\CSS 581\\CSS581-FlightDelayML\\.venv\\lib\\site-packages\\sklearn\\metrics\\_classification.py:1334: UndefinedMetricWarning: Precision is ill-defined and being set to 0.0 in labels with no predicted samples. Use `zero_division` parameter to control this behavior.\n",
      "  _warn_prf(average, modifier, msg_start, len(result))\n",
      "c:\\Users\\chrolph\\Projects\\CSS 581\\CSS581-FlightDelayML\\.venv\\lib\\site-packages\\sklearn\\metrics\\_classification.py:1334: UndefinedMetricWarning: Precision is ill-defined and being set to 0.0 in labels with no predicted samples. Use `zero_division` parameter to control this behavior.\n",
      "  _warn_prf(average, modifier, msg_start, len(result))\n",
      "c:\\Users\\chrolph\\Projects\\CSS 581\\CSS581-FlightDelayML\\.venv\\lib\\site-packages\\sklearn\\metrics\\_classification.py:1334: UndefinedMetricWarning: Precision is ill-defined and being set to 0.0 in labels with no predicted samples. Use `zero_division` parameter to control this behavior.\n",
      "  _warn_prf(average, modifier, msg_start, len(result))\n"
     ]
    },
    {
     "name": "stdout",
     "output_type": "stream",
     "text": [
      "Model Type: random_forest\n",
      "Scores from cross-validation are:\n",
      "Accuracy: 0.24606\n",
      "Precision: 0.14508758345317935\n",
      "Recall: 0.2411481289862746\n",
      "F-1 Score: 0.17076651155913175\n"
     ]
    },
    {
     "name": "stderr",
     "output_type": "stream",
     "text": [
      "c:\\Users\\chrolph\\Projects\\CSS 581\\CSS581-FlightDelayML\\.venv\\lib\\site-packages\\sklearn\\metrics\\_classification.py:1334: UndefinedMetricWarning: Precision is ill-defined and being set to 0.0 in labels with no predicted samples. Use `zero_division` parameter to control this behavior.\n",
      "  _warn_prf(average, modifier, msg_start, len(result))\n"
     ]
    }
   ],
   "source": [
    "#build model 3\n",
    "smallerSampleDataframe = trainData.sample(n=100000)\n",
    "xFeatures = smallerSampleDataframe[selectedFeatures]\n",
    "yTarget = np.ravel(smallerSampleDataframe['BinArrDelayMinutes'])\n",
    "\n",
    "CreateModelUsingCrossVal(xFeatures, yTarget, \"random_forest\")"
   ]
  }
 ],
 "metadata": {
  "kernelspec": {
   "display_name": "Python 3.10.1 ('.venv': venv)",
   "language": "python",
   "name": "python3"
  },
  "language_info": {
   "codemirror_mode": {
    "name": "ipython",
    "version": 3
   },
   "file_extension": ".py",
   "mimetype": "text/x-python",
   "name": "python",
   "nbconvert_exporter": "python",
   "pygments_lexer": "ipython3",
   "version": "3.10.1"
  },
  "orig_nbformat": 4,
  "vscode": {
   "interpreter": {
    "hash": "26bdf0cbeaea474715fcbfcd51d26a7bfa7682dcaa2cc555ce85a41a5cf66fe2"
   }
  }
 },
 "nbformat": 4,
 "nbformat_minor": 2
}
