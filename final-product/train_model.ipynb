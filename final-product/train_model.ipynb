{
 "cells": [
  {
   "cell_type": "markdown",
   "metadata": {},
   "source": [
    "# Train Model\n",
    "## i. Overview\n",
    "The Model Trainer is used to generate and train a ML model for our use case. The data is assumed to already be preprocessed and do not need much additional manipulation.\n",
    "\n",
    "## ii. Special Notes\n",
    "1. The file is always expected to be loaded as a dense matrix. For better processing speed, we can convert the dense matrix into a sparse matrix.\n",
    "2. We need to figure out how to improve processing speed while keeping up performance.\n",
    "\n",
    "## iii. Methodology\n",
    "### Selected Algorithm\n",
    "\n",
    "### Additional\n",
    "\n",
    "\n",
    "\n"
   ]
  },
  {
   "cell_type": "code",
   "execution_count": 1,
   "metadata": {},
   "outputs": [],
   "source": [
    "#import libraries\n",
    "import pandas as pd\n",
    "import numpy as np\n",
    "import sklearn as skl\n",
    "from sklearn.model_selection import cross_validate\n",
    "from sklearn.linear_model import LinearRegression\n",
    "from sklearn.ensemble import RandomForestClassifier\n",
    "from sklearn.naive_bayes import GaussianNB\n",
    "import imblearn as imbl\n",
    "from imblearn.ensemble import BalancedRandomForestClassifier\n",
    "from imblearn.ensemble import RUSBoostClassifier\n",
    "\n",
    "trainDataPath = 'data/trainData_2018-2019'\n",
    "trainDataPathBinaryTarget = 'data/trainDataBinaryTarget_2018-2019'\n",
    "\n",
    "selectedFeatures = [\n",
    "    'Airline',\n",
    "    'Origin',\n",
    "    'Dest',\n",
    "    'CRSDepTime', \n",
    "    'Distance', \n",
    "    # 'Year', \n",
    "    'Quarter', \n",
    "    'Month', \n",
    "    'DayofMonth', \n",
    "    'DayOfWeek', \n",
    "    'DepTimeBlk', \n",
    "    'ArrTimeBlk', \n",
    "    'DistanceGroup'\n",
    "    ]"
   ]
  },
  {
   "cell_type": "code",
   "execution_count": 2,
   "metadata": {},
   "outputs": [
    {
     "name": "stdout",
     "output_type": "stream",
     "text": [
      "Train data shape: (5697559, 16)\n",
      "Binary target train data shape: (13503883, 15)\n"
     ]
    }
   ],
   "source": [
    "#load data and set up for training\n",
    "trainData = pd.read_parquet(trainDataPath, engine='fastparquet')\n",
    "print(f'Train data shape: {trainData.shape}')\n",
    "\n",
    "trainDataBinaryTarget = pd.read_parquet(trainDataPathBinaryTarget, engine='fastparquet')\n",
    "print(f'Binary target train data shape: {trainDataBinaryTarget.shape}')"
   ]
  },
  {
   "cell_type": "code",
   "execution_count": 3,
   "metadata": {},
   "outputs": [],
   "source": [
    "#define any relevant functions\n",
    "\n",
    "# SaveModel\n",
    "#\n",
    "# function that can be used to save the model that we just built\n",
    "# after fitting the model, save it to filename\n",
    "import pickle\n",
    "def SaveModel(model, filename):\n",
    "    pickle.dump(model, open(filename, 'wb'))\n",
    "\n",
    "#CreateModelUsingCrossVal\n",
    "#\n",
    "#Creates a model given the input of\n",
    "#x features, y target, and which type of\n",
    "#model to run. Then uses cross validation\n",
    "#to run that model and prints out the scores.\n",
    "def CreateModelUsingCrossVal(trainx, trainy, mode):\n",
    "    if (mode == 'logistic_regression' or mode == 'lr'):\n",
    "        model = skl.linear_model.LogisticRegression(max_iter=1000)\n",
    "    elif (mode == 'naive_bayes' or mode == 'nb'):\n",
    "        model = skl.naive_bayes.GaussianNB()\n",
    "    elif (mode == 'random_forest' or mode == 'rf'):\n",
    "        model = skl.ensemble.RandomForestClassifier(max_depth=2)\n",
    "    elif (mode == 'balanced_random_forest' or mode == 'brf'):\n",
    "        model = BalancedRandomForestClassifier(max_depth=2)\n",
    "    elif (mode == 'adaboost' or mode == 'ab'):\n",
    "        model = RUSBoostClassifier()\n",
    "    \n",
    "    model.fit(trainx,trainy)\n",
    "    SaveModel(model, \"models/multiclass_model_\"+mode+\".pkl\")\n",
    "\n",
    "    desiredScores=['accuracy', 'precision_macro', 'recall_macro', 'f1_macro']\n",
    "\n",
    "    results=cross_validate(model, trainx, trainy, cv=5, scoring=desiredScores, return_train_score=False)\n",
    "\n",
    "    print(f\"Model Type: {mode}\")\n",
    "    print(\"Scores from cross-validation are:\")\n",
    "    print(f'Accuracy: {results[\"test_accuracy\"].mean()}')\n",
    "    print(f'Precision: {results[\"test_precision_macro\"].mean()}')\n",
    "    print(f'Recall: {results[\"test_recall_macro\"].mean()}')\n",
    "    print(f'F-1 Score: {results[\"test_f1_macro\"].mean()}')\n",
    "\n",
    "# Function to be used for models\n",
    "def BinaryTargetCreateModelUsingCrossVal(trainx, trainy, mode):\n",
    "    if (mode == 'logistic_regression' or mode == 'lr'):\n",
    "        model = skl.linear_model.LogisticRegression(max_iter=1000)\n",
    "    elif (mode == 'naive_bayes' or mode == 'nb'):\n",
    "        model = skl.naive_bayes.GaussianNB()\n",
    "    elif (mode == 'random_forest' or mode == 'rf'):\n",
    "        model = skl.ensemble.RandomForestClassifier(max_depth=2)\n",
    "    elif (mode == 'balanced_random_forest' or mode == 'brf'):\n",
    "        model = BalancedRandomForestClassifier(max_depth=2)\n",
    "    elif (mode == 'adaboost' or mode == 'ab'):\n",
    "        model = RUSBoostClassifier()\n",
    "    \n",
    "    fit=model.fit(trainx,trainy)\n",
    "    model.fit(trainx,trainy)\n",
    "    SaveModel(model, \"models/binary_model_\"+mode+\".pkl\")\n",
    "\n",
    "    desiredScores=['accuracy', 'precision', 'recall', 'f1', 'roc_auc']\n",
    "\n",
    "    results=cross_validate(model, trainx, trainy, cv=5, scoring=desiredScores, return_train_score=False)\n",
    "\n",
    "    print(f\"Model Type: {mode}\")\n",
    "    print(\"Scores from cross-validation are:\")\n",
    "    print(f'Accuracy: {results[\"test_accuracy\"].mean()}')\n",
    "    print(f'Precision: {results[\"test_precision\"].mean()}')\n",
    "    print(f'Recall: {results[\"test_recall\"].mean()}')\n",
    "    print(f'F-1 Score: {results[\"test_f1\"].mean()}')\n",
    "    print(f'AUC: {results[\"test_roc_auc\"].mean()}')"
   ]
  },
  {
   "cell_type": "code",
   "execution_count": 4,
   "metadata": {},
   "outputs": [
    {
     "name": "stdout",
     "output_type": "stream",
     "text": [
      "MultiClass Evaluation\n",
      "Model Type: naive_bayes\n",
      "Scores from cross-validation are:\n",
      "Accuracy: 0.2160500671002426\n",
      "Precision: 0.19806963728234078\n",
      "Recall: 0.21409934679506315\n",
      "F-1 Score: 0.16378578619225465\n",
      "\n",
      "Binary Class Evaluation\n",
      "Model Type: naive_bayes\n",
      "Scores from cross-validation are:\n",
      "Accuracy: 0.6094819537499819\n",
      "Precision: 0.4200300746197776\n",
      "Recall: 0.2899803865846082\n",
      "F-1 Score: 0.34254612618376\n",
      "AUC: 0.5773607469326354\n"
     ]
    }
   ],
   "source": [
    "#build model 1\n",
    "xFeatures = trainData[selectedFeatures]\n",
    "yTarget = np.ravel(trainData['BinArrDelayMinutes'])\n",
    "\n",
    "print('MultiClass Evaluation')\n",
    "CreateModelUsingCrossVal(xFeatures, yTarget, \"naive_bayes\")\n",
    "print()\n",
    "\n",
    "xFeatures = trainDataBinaryTarget[selectedFeatures]\n",
    "yTarget = np.ravel(trainDataBinaryTarget['BinaryArrDelayMinutes'])\n",
    "print('Binary Class Evaluation')\n",
    "BinaryTargetCreateModelUsingCrossVal(xFeatures, yTarget, \"naive_bayes\")"
   ]
  },
  {
   "cell_type": "code",
   "execution_count": 5,
   "metadata": {},
   "outputs": [
    {
     "name": "stdout",
     "output_type": "stream",
     "text": [
      "MultiClass Evaluation\n"
     ]
    },
    {
     "name": "stderr",
     "output_type": "stream",
     "text": [
      "/Users/chhduong/Library/Python/3.9/lib/python/site-packages/sklearn/linear_model/_logistic.py:444: ConvergenceWarning: lbfgs failed to converge (status=1):\n",
      "STOP: TOTAL NO. of ITERATIONS REACHED LIMIT.\n",
      "\n",
      "Increase the number of iterations (max_iter) or scale the data as shown in:\n",
      "    https://scikit-learn.org/stable/modules/preprocessing.html\n",
      "Please also refer to the documentation for alternative solver options:\n",
      "    https://scikit-learn.org/stable/modules/linear_model.html#logistic-regression\n",
      "  n_iter_i = _check_optimize_result(\n",
      "/Users/chhduong/Library/Python/3.9/lib/python/site-packages/sklearn/linear_model/_logistic.py:444: ConvergenceWarning: lbfgs failed to converge (status=1):\n",
      "STOP: TOTAL NO. of ITERATIONS REACHED LIMIT.\n",
      "\n",
      "Increase the number of iterations (max_iter) or scale the data as shown in:\n",
      "    https://scikit-learn.org/stable/modules/preprocessing.html\n",
      "Please also refer to the documentation for alternative solver options:\n",
      "    https://scikit-learn.org/stable/modules/linear_model.html#logistic-regression\n",
      "  n_iter_i = _check_optimize_result(\n",
      "/Users/chhduong/Library/Python/3.9/lib/python/site-packages/sklearn/linear_model/_logistic.py:444: ConvergenceWarning: lbfgs failed to converge (status=1):\n",
      "STOP: TOTAL NO. of ITERATIONS REACHED LIMIT.\n",
      "\n",
      "Increase the number of iterations (max_iter) or scale the data as shown in:\n",
      "    https://scikit-learn.org/stable/modules/preprocessing.html\n",
      "Please also refer to the documentation for alternative solver options:\n",
      "    https://scikit-learn.org/stable/modules/linear_model.html#logistic-regression\n",
      "  n_iter_i = _check_optimize_result(\n",
      "/Users/chhduong/Library/Python/3.9/lib/python/site-packages/sklearn/linear_model/_logistic.py:444: ConvergenceWarning: lbfgs failed to converge (status=1):\n",
      "STOP: TOTAL NO. of ITERATIONS REACHED LIMIT.\n",
      "\n",
      "Increase the number of iterations (max_iter) or scale the data as shown in:\n",
      "    https://scikit-learn.org/stable/modules/preprocessing.html\n",
      "Please also refer to the documentation for alternative solver options:\n",
      "    https://scikit-learn.org/stable/modules/linear_model.html#logistic-regression\n",
      "  n_iter_i = _check_optimize_result(\n",
      "/Users/chhduong/Library/Python/3.9/lib/python/site-packages/sklearn/linear_model/_logistic.py:444: ConvergenceWarning: lbfgs failed to converge (status=1):\n",
      "STOP: TOTAL NO. of ITERATIONS REACHED LIMIT.\n",
      "\n",
      "Increase the number of iterations (max_iter) or scale the data as shown in:\n",
      "    https://scikit-learn.org/stable/modules/preprocessing.html\n",
      "Please also refer to the documentation for alternative solver options:\n",
      "    https://scikit-learn.org/stable/modules/linear_model.html#logistic-regression\n",
      "  n_iter_i = _check_optimize_result(\n",
      "/Users/chhduong/Library/Python/3.9/lib/python/site-packages/sklearn/linear_model/_logistic.py:444: ConvergenceWarning: lbfgs failed to converge (status=1):\n",
      "STOP: TOTAL NO. of ITERATIONS REACHED LIMIT.\n",
      "\n",
      "Increase the number of iterations (max_iter) or scale the data as shown in:\n",
      "    https://scikit-learn.org/stable/modules/preprocessing.html\n",
      "Please also refer to the documentation for alternative solver options:\n",
      "    https://scikit-learn.org/stable/modules/linear_model.html#logistic-regression\n",
      "  n_iter_i = _check_optimize_result(\n"
     ]
    },
    {
     "name": "stdout",
     "output_type": "stream",
     "text": [
      "Model Type: logistic_regression\n",
      "Scores from cross-validation are:\n",
      "Accuracy: 0.24562\n",
      "Precision: 0.2336213556411856\n",
      "Recall: 0.2404143292970174\n",
      "F-1 Score: 0.1986082526964126\n",
      "\n",
      "Binary Class Evaluation\n",
      "Model Type: logistic_regression\n",
      "Scores from cross-validation are:\n",
      "Accuracy: 0.6466700000000001\n",
      "Precision: 0.4446666666666667\n",
      "Recall: 0.0014157247448902282\n",
      "F-1 Score: 0.0028210946277759854\n",
      "AUC: 0.5796053782315183\n"
     ]
    }
   ],
   "source": [
    "#build model 2\n",
    "smallerSampleDataframe = trainData.sample(n=100000)\n",
    "xFeatures = smallerSampleDataframe[selectedFeatures]\n",
    "yTarget = np.ravel(smallerSampleDataframe['BinArrDelayMinutes'])\n",
    "\n",
    "print('MultiClass Evaluation')\n",
    "CreateModelUsingCrossVal(xFeatures, yTarget, \"logistic_regression\")\n",
    "print()\n",
    "\n",
    "smallerSampleDataframe = trainDataBinaryTarget.sample(n=100000)\n",
    "xFeatures = smallerSampleDataframe[selectedFeatures]\n",
    "yTarget = np.ravel(smallerSampleDataframe['BinaryArrDelayMinutes'])\n",
    "print('Binary Class Evaluation')\n",
    "BinaryTargetCreateModelUsingCrossVal(xFeatures, yTarget, \"logistic_regression\")\n"
   ]
  },
  {
   "cell_type": "code",
   "execution_count": 6,
   "metadata": {},
   "outputs": [
    {
     "name": "stdout",
     "output_type": "stream",
     "text": [
      "MultiClass Evaluation\n"
     ]
    },
    {
     "name": "stderr",
     "output_type": "stream",
     "text": [
      "/Users/chhduong/Library/Python/3.9/lib/python/site-packages/sklearn/metrics/_classification.py:1334: UndefinedMetricWarning: Precision is ill-defined and being set to 0.0 in labels with no predicted samples. Use `zero_division` parameter to control this behavior.\n",
      "  _warn_prf(average, modifier, msg_start, len(result))\n",
      "/Users/chhduong/Library/Python/3.9/lib/python/site-packages/sklearn/metrics/_classification.py:1334: UndefinedMetricWarning: Precision is ill-defined and being set to 0.0 in labels with no predicted samples. Use `zero_division` parameter to control this behavior.\n",
      "  _warn_prf(average, modifier, msg_start, len(result))\n",
      "/Users/chhduong/Library/Python/3.9/lib/python/site-packages/sklearn/metrics/_classification.py:1334: UndefinedMetricWarning: Precision is ill-defined and being set to 0.0 in labels with no predicted samples. Use `zero_division` parameter to control this behavior.\n",
      "  _warn_prf(average, modifier, msg_start, len(result))\n",
      "/Users/chhduong/Library/Python/3.9/lib/python/site-packages/sklearn/metrics/_classification.py:1334: UndefinedMetricWarning: Precision is ill-defined and being set to 0.0 in labels with no predicted samples. Use `zero_division` parameter to control this behavior.\n",
      "  _warn_prf(average, modifier, msg_start, len(result))\n",
      "/Users/chhduong/Library/Python/3.9/lib/python/site-packages/sklearn/metrics/_classification.py:1334: UndefinedMetricWarning: Precision is ill-defined and being set to 0.0 in labels with no predicted samples. Use `zero_division` parameter to control this behavior.\n",
      "  _warn_prf(average, modifier, msg_start, len(result))\n"
     ]
    },
    {
     "name": "stdout",
     "output_type": "stream",
     "text": [
      "Model Type: random_forest\n",
      "Scores from cross-validation are:\n",
      "Accuracy: 0.24991000000000002\n",
      "Precision: 0.1476562246911561\n",
      "Recall: 0.2442139985604649\n",
      "F-1 Score: 0.16829609209091845\n",
      "\n",
      "Binary Class Evaluation\n"
     ]
    },
    {
     "name": "stderr",
     "output_type": "stream",
     "text": [
      "/Users/chhduong/Library/Python/3.9/lib/python/site-packages/sklearn/metrics/_classification.py:1334: UndefinedMetricWarning: Precision is ill-defined and being set to 0.0 due to no predicted samples. Use `zero_division` parameter to control this behavior.\n",
      "  _warn_prf(average, modifier, msg_start, len(result))\n",
      "/Users/chhduong/Library/Python/3.9/lib/python/site-packages/sklearn/metrics/_classification.py:1334: UndefinedMetricWarning: Precision is ill-defined and being set to 0.0 due to no predicted samples. Use `zero_division` parameter to control this behavior.\n",
      "  _warn_prf(average, modifier, msg_start, len(result))\n",
      "/Users/chhduong/Library/Python/3.9/lib/python/site-packages/sklearn/metrics/_classification.py:1334: UndefinedMetricWarning: Precision is ill-defined and being set to 0.0 due to no predicted samples. Use `zero_division` parameter to control this behavior.\n",
      "  _warn_prf(average, modifier, msg_start, len(result))\n",
      "/Users/chhduong/Library/Python/3.9/lib/python/site-packages/sklearn/metrics/_classification.py:1334: UndefinedMetricWarning: Precision is ill-defined and being set to 0.0 due to no predicted samples. Use `zero_division` parameter to control this behavior.\n",
      "  _warn_prf(average, modifier, msg_start, len(result))\n"
     ]
    },
    {
     "name": "stdout",
     "output_type": "stream",
     "text": [
      "Model Type: random_forest\n",
      "Scores from cross-validation are:\n",
      "Accuracy: 0.64931\n",
      "Precision: 0.0\n",
      "Recall: 0.0\n",
      "F-1 Score: 0.0\n",
      "AUC: 0.5840577296230373\n"
     ]
    },
    {
     "name": "stderr",
     "output_type": "stream",
     "text": [
      "/Users/chhduong/Library/Python/3.9/lib/python/site-packages/sklearn/metrics/_classification.py:1334: UndefinedMetricWarning: Precision is ill-defined and being set to 0.0 due to no predicted samples. Use `zero_division` parameter to control this behavior.\n",
      "  _warn_prf(average, modifier, msg_start, len(result))\n"
     ]
    }
   ],
   "source": [
    "#build model 3\n",
    "smallerSampleDataframe = trainData.sample(n=100000)\n",
    "xFeatures = smallerSampleDataframe[selectedFeatures]\n",
    "yTarget = np.ravel(smallerSampleDataframe['BinArrDelayMinutes'])\n",
    "\n",
    "print('MultiClass Evaluation')\n",
    "CreateModelUsingCrossVal(xFeatures, yTarget, \"random_forest\")\n",
    "print()\n",
    "\n",
    "smallerSampleDataframe = trainDataBinaryTarget.sample(n=100000)\n",
    "xFeatures = smallerSampleDataframe[selectedFeatures]\n",
    "yTarget = np.ravel(smallerSampleDataframe['BinaryArrDelayMinutes'])\n",
    "print('Binary Class Evaluation')\n",
    "BinaryTargetCreateModelUsingCrossVal(xFeatures, yTarget, \"random_forest\")"
   ]
  }
 ],
 "metadata": {
  "interpreter": {
   "hash": "31f2aee4e71d21fbe5cf8b01ff0e069b9275f58929596ceb00d14d90e3e16cd6"
  },
  "kernelspec": {
   "display_name": "Python 3.9.6 64-bit",
   "name": "python3"
  },
  "language_info": {
   "codemirror_mode": {
    "name": "ipython",
    "version": 3
   },
   "file_extension": ".py",
   "mimetype": "text/x-python",
   "name": "python",
   "nbconvert_exporter": "python",
   "pygments_lexer": "ipython3",
   "version": "3.9.6"
  },
  "orig_nbformat": 4,
  "vscode": {
   "interpreter": {
    "hash": "26bdf0cbeaea474715fcbfcd51d26a7bfa7682dcaa2cc555ce85a41a5cf66fe2"
   }
  }
 },
 "nbformat": 4,
 "nbformat_minor": 2
}
