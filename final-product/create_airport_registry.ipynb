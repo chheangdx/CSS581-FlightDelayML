{
 "cells": [
  {
   "cell_type": "code",
   "execution_count": 1,
   "metadata": {},
   "outputs": [],
   "source": [
    "import pandas as pd\n",
    "import numpy as np\n"
   ]
  },
  {
   "cell_type": "markdown",
   "metadata": {},
   "source": [
    "## Load Origin and Destination data separately "
   ]
  },
  {
   "cell_type": "code",
   "execution_count": 9,
   "metadata": {},
   "outputs": [],
   "source": [
    "#load data\n",
    "files = [\n",
    "    \"archive/Combined_Flights_2018.parquet\", \n",
    "    \"archive/Combined_Flights_2019.parquet\", \n",
    "    \"archive/Combined_Flights_2022.parquet\"\n",
    "]\n",
    "\n",
    "origin_columns = [\n",
    "    \"OriginCityName\",\n",
    "    \"OriginAirportID\",\n",
    "    \"OriginCityMarketID\",\n",
    "    \"Origin\"\n",
    "]\n",
    "dest_columns = [\n",
    "    \"DestCityName\",\n",
    "    \"DestAirportID\",\n",
    "    \"DestCityMarketID\",\n",
    "    \"Dest\"\n",
    "]\n",
    "\n",
    "\n",
    "origin_df = pd.concat(\n",
    "    [\n",
    "        pd.read_parquet(files[0], columns = origin_columns, engine=\"fastparquet\"),\n",
    "        pd.read_parquet(files[1], columns = origin_columns, engine=\"fastparquet\"),\n",
    "        pd.read_parquet(files[2], columns = origin_columns, engine=\"fastparquet\")\n",
    "    ],\n",
    "    axis = 0)\n",
    "dest_df = pd.concat(\n",
    "    [\n",
    "        pd.read_parquet(files[0], columns = dest_columns, engine=\"fastparquet\"),\n",
    "        pd.read_parquet(files[1], columns = dest_columns, engine=\"fastparquet\"),\n",
    "        pd.read_parquet(files[2], columns = dest_columns, engine=\"fastparquet\")\n",
    "    ],\n",
    "    axis = 0)"
   ]
  },
  {
   "cell_type": "markdown",
   "metadata": {},
   "source": [
    "## Merge Origin and Destination data into a single dataset of just Airports"
   ]
  },
  {
   "cell_type": "code",
   "execution_count": 10,
   "metadata": {},
   "outputs": [],
   "source": [
    "#drop missing values\n",
    "origin_df.dropna(inplace=True)\n",
    "dest_df.dropna(inplace=True)\n",
    "\n",
    "#change columns to look like same dataframe\n",
    "origin_df['CityName'] = origin_df['OriginCityName']\n",
    "origin_df['AirportID'] = origin_df['OriginAirportID']\n",
    "origin_df['CityMarketID'] = origin_df['OriginCityMarketID']\n",
    "origin_df['AirportName'] = origin_df['Origin']\n",
    "\n",
    "dest_df['CityName'] = dest_df['DestCityName']\n",
    "dest_df['AirportID'] = dest_df['DestAirportID']\n",
    "dest_df['CityMarketID'] = dest_df['DestCityMarketID']\n",
    "dest_df['AirportName'] = dest_df['Dest']\n",
    "\n",
    "origin_df.drop(origin_columns, axis=1, inplace=True)\n",
    "dest_df.drop(dest_columns, axis=1, inplace=True)\n",
    "\n",
    "#merge origin and dest dataframes\n",
    "df=pd.concat([origin_df, dest_df], ignore_index=True)\n",
    "origin_df = pd.DataFrame()\n",
    "dest_df = pd.DataFrame()"
   ]
  },
  {
   "cell_type": "markdown",
   "metadata": {},
   "source": [
    "## Reduce the dataset down to distinct values"
   ]
  },
  {
   "cell_type": "code",
   "execution_count": 19,
   "metadata": {},
   "outputs": [],
   "source": [
    "#get all unique airport IDs\n",
    "airportIDs = pd.unique(df['AirportID'])\n",
    "\n",
    "#get rest of the data and form new dataframe\n",
    "data_extract = pd.DataFrame()\n",
    "\n",
    "cityname_list = list()\n",
    "airportid_list = list()\n",
    "citymarketid_list = list()\n",
    "airportname_list = list()\n",
    "\n",
    "for airport in airportIDs:\n",
    "    row = df[df['AirportID'] == airport].iloc[0]\n",
    "    cityname_list.append(row[0])\n",
    "    airportid_list.append(row[1])\n",
    "    citymarketid_list.append(row[2])\n",
    "    airportname_list.append(row[3])\n",
    "\n",
    "final_df=pd.DataFrame({\n",
    "    'CityName': cityname_list,\n",
    "    'AirportID': airportid_list,\n",
    "    'CityMarketID': citymarketid_list,\n",
    "    'AirportName': airportname_list\n",
    "})"
   ]
  },
  {
   "cell_type": "code",
   "execution_count": 22,
   "metadata": {},
   "outputs": [],
   "source": [
    "#save registry of airports to file\n",
    "# final_df.to_excel(\"data/excel_airport_registry.xlsx\")\n",
    "final_df.to_parquet(\"data/airport_registry.parquet\")"
   ]
  }
 ],
 "metadata": {
  "interpreter": {
   "hash": "31f2aee4e71d21fbe5cf8b01ff0e069b9275f58929596ceb00d14d90e3e16cd6"
  },
  "kernelspec": {
   "display_name": "Python 3.9.6 64-bit",
   "name": "python3"
  },
  "language_info": {
   "codemirror_mode": {
    "name": "ipython",
    "version": 3
   },
   "file_extension": ".py",
   "mimetype": "text/x-python",
   "name": "python",
   "nbconvert_exporter": "python",
   "pygments_lexer": "ipython3",
   "version": "3.9.6"
  },
  "orig_nbformat": 4
 },
 "nbformat": 4,
 "nbformat_minor": 2
}
