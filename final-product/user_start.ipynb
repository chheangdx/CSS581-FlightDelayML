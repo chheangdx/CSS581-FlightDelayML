{
 "cells": [
  {
   "cell_type": "markdown",
   "metadata": {},
   "source": [
    "# User Start\n",
    "## i. Overview\n",
    "The User Start module is used to run our use case. A user provides the origin, destination, and date (in 2022) they \"plan\" to fly. Afterward, the program will predict the delay for all relevant flights and select the best flights with the least delay. This program assumes that the data for 2022 has been preprocessed to work for this program, and assumes that the model has already been built.\n",
    "\n",
    "## ii. Special Notes\n",
    "1. The file is always expected to be loaded as a dense matrix. For better processing speed, we can convert the dense matrix into a sparse matrix.\n",
    "2. We need to figure out how to improve processing speed while keeping up performance.\n",
    "\n",
    "## iii. Methodology\n",
    "### Load Model\n",
    "\n",
    "### Request User for Input\n",
    "\n",
    "### Predict Delay and Recommend Best Flights\n",
    "\n",
    "\n",
    "\n"
   ]
  },
  {
   "cell_type": "code",
   "execution_count": 1,
   "metadata": {},
   "outputs": [],
   "source": [
    "import pandas as pd\n",
    "import numpy as np\n",
    "import pickle\n",
    "\n",
    "flight_registry_file = \"data/airport_registry.parquet\"\n",
    "flight_2022_file = \"data/testData_2022\"\n",
    "model_file = \"models/dummy_model.pkl\""
   ]
  },
  {
   "cell_type": "code",
   "execution_count": 2,
   "metadata": {},
   "outputs": [],
   "source": [
    "#load flight registry\n",
    "flight_registry = pd.read_parquet(flight_registry_file, engine=\"fastparquet\")\n",
    "\n",
    "#load preprocessed 2022 dataset (only good from Dec 31, 2021 to Jul 30, 2022)\n",
    "flight_2022_data = pd.read_parquet(flight_2022_file, engine=\"fastparquet\")\n",
    "\n",
    "#load model\n",
    "model = pickle.load(open(model_file, 'rb'))\\\n",
    "\n",
    "#load translation for Origin and Dest"
   ]
  },
  {
   "cell_type": "code",
   "execution_count": 18,
   "metadata": {},
   "outputs": [
    {
     "name": "stdout",
     "output_type": "stream",
     "text": [
      "yes\n"
     ]
    }
   ],
   "source": [
    "if len(flight_registry[flight_registry['CityName'].str.contains(\"Seattle\")]):\n",
    "    print(\"yes\")\n",
    "else: \n",
    "    print(\"no\")"
   ]
  },
  {
   "cell_type": "code",
   "execution_count": 58,
   "metadata": {},
   "outputs": [],
   "source": [
    "#### FUNCTIONS\n",
    "\n",
    "## GetRelevantAirports\n",
    "#retrieves relevant airport from flight registry with origin and destination provided\n",
    "#possible inputs are airport names such as \"SEA\" or city name such as \"Seattle\"\n",
    "\n",
    "# the user has provided the departure city or airport, arrival city or airport, and date\n",
    "# now we find all relevant airports (date is not needed)\n",
    "def GetRelevantAirports(departure, arrival, data):\n",
    "    #translate departure and arrival input to markets\n",
    "    #check if airport name contains input\n",
    "    departure_search = data[data['AirportName']==departure]\n",
    "    if not len(departure_search):\n",
    "        #not found, search city name instead\n",
    "        departure_search = data[data['CityName'].str.contains(departure)]\n",
    "        if not len(departure_search):\n",
    "            #error return nothing\n",
    "            return None\n",
    "    #get the market from the departure search result\n",
    "    print(departure_search)\n",
    "    departure_market = departure_search.iloc[0]['CityMarketID']\n",
    "\n",
    "    #do the same for arrival\n",
    "    arrival_search = data[data['AirportName']==arrival]\n",
    "    if not len(arrival_search):\n",
    "        arrival_search = data[data['CityName'].str.contains(arrival)]\n",
    "        if not len(arrival_search):\n",
    "            #error return nothing\n",
    "            return None\n",
    "    print(arrival_search)\n",
    "    arrival_market = arrival_search.iloc[0]['CityMarketID']\n",
    "\n",
    "    filtered_data = data[data['CityMarketID'].isin([departure_market,arrival_market])]\n",
    "    print(filtered_data)\n",
    "    return filtered_data\n",
    "\n",
    "## PredictBestFlight\n",
    "#runs model on relevant flights\n",
    "#find best predict delay\n",
    "#return flights with best delay\n",
    "\n",
    "## GetInput\n",
    "#gets details from user\n",
    "def GetInput():\n",
    "    return {\n",
    "        'departure_city': 'LAX',\n",
    "        'arrival_city': 'San Francisco',\n",
    "        'date': ['March', '29']\n",
    "    }"
   ]
  },
  {
   "cell_type": "code",
   "execution_count": 59,
   "metadata": {},
   "outputs": [
    {
     "name": "stdout",
     "output_type": "stream",
     "text": [
      "            CityName  AirportID  CityMarketID AirportName\n",
      "114  Los Angeles, CA      12892         32575         LAX\n",
      "32575\n",
      "              CityName  AirportID  CityMarketID AirportName\n",
      "115  San Francisco, CA      14771         32457         SFO\n",
      "32457\n",
      "              CityName  AirportID  CityMarketID AirportName\n",
      "111       San Jose, CA      14831         32457         SJC\n",
      "113     Long Beach, CA      12954         32575         LGB\n",
      "114    Los Angeles, CA      12892         32575         LAX\n",
      "115  San Francisco, CA      14771         32457         SFO\n",
      "127        Oakland, CA      13796         32457         OAK\n",
      "131        Burbank, CA      10800         32575         BUR\n",
      "211        Ontario, CA      13891         32575         ONT\n",
      "224      Santa Ana, CA      14908         32575         SNA\n"
     ]
    }
   ],
   "source": [
    "#### MAIN\n",
    "\n",
    "#introduction\n",
    "#request input from user\n",
    "user_input = GetInput()\n",
    "#predict best flight\n",
    "relevant_airports = GetRelevantAirports(\n",
    "    user_input['departure_city'],\n",
    "    user_input['arrival_city'], \n",
    "    flight_registry\n",
    ")\n",
    "# print(relevant_airports)\n",
    "#loop or exit"
   ]
  }
 ],
 "metadata": {
  "interpreter": {
   "hash": "31f2aee4e71d21fbe5cf8b01ff0e069b9275f58929596ceb00d14d90e3e16cd6"
  },
  "kernelspec": {
   "display_name": "Python 3.9.6 64-bit",
   "name": "python3"
  },
  "language_info": {
   "codemirror_mode": {
    "name": "ipython",
    "version": 3
   },
   "file_extension": ".py",
   "mimetype": "text/x-python",
   "name": "python",
   "nbconvert_exporter": "python",
   "pygments_lexer": "ipython3",
   "version": "3.9.6"
  },
  "orig_nbformat": 4
 },
 "nbformat": 4,
 "nbformat_minor": 2
}
