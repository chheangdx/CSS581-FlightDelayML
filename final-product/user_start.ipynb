{
 "cells": [
  {
   "cell_type": "markdown",
   "metadata": {},
   "source": [
    "# User Start\n",
    "## i. Overview\n",
    "The User Start module is used to run our use case. A user provides the origin, destination, and date (in 2022) they \"plan\" to fly. Afterward, the program will predict the delay for all relevant flights and select the best flights with the least delay. This program assumes that the data for 2022 has been preprocessed to work for this program, and assumes that the model has already been built.\n",
    "\n",
    "## ii. Special Notes\n",
    "1. The file is always expected to be loaded as a dense matrix. For better processing speed, we can convert the dense matrix into a sparse matrix.\n",
    "2. We need to figure out how to improve processing speed while keeping up performance.\n",
    "\n",
    "## iii. Methodology\n",
    "### Load Model\n",
    "\n",
    "### Request User for Input\n",
    "\n",
    "### Predict Delay and Recommend Best Flights\n",
    "\n",
    "\n",
    "\n"
   ]
  },
  {
   "cell_type": "code",
   "execution_count": null,
   "metadata": {},
   "outputs": [],
   "source": []
  }
 ],
 "metadata": {
  "interpreter": {
   "hash": "31f2aee4e71d21fbe5cf8b01ff0e069b9275f58929596ceb00d14d90e3e16cd6"
  },
  "kernelspec": {
   "display_name": "Python 3.9.6 64-bit",
   "name": "python3"
  },
  "language_info": {
   "name": "python",
   "version": "3.9.6"
  },
  "orig_nbformat": 4
 },
 "nbformat": 4,
 "nbformat_minor": 2
}
