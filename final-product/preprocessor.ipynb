{
 "cells": [
  {
   "cell_type": "markdown",
   "metadata": {},
   "source": [
    "# Data Preprocessor\n",
    "## i. Overview\n",
    "The Data Preprocessor is used to take the process the raw data into a simpler dataset for training and prediction. The training data will be 2018 and 2019 while the test data is 2022. The user will be selecting which test data to predict on.\n",
    "\n",
    "## ii. Special Notes\n",
    "1. Since sparse matrices cannot be saved to a file, the Data Preprocessor does not convert the data into a sparse matrix.\n",
    "2. The output files will use the parquet file extension because parquet is loaded faster.\n",
    "\n",
    "## iii. Methodology\n",
    "### Selected Features\n",
    "\n",
    "### Transformed Features\n",
    "\n",
    "### Other Identifying Features\n"
   ]
  },
  {
   "cell_type": "code",
   "execution_count": null,
   "metadata": {},
   "outputs": [],
   "source": [
    "# load the data and set it up"
   ]
  },
  {
   "cell_type": "code",
   "execution_count": null,
   "metadata": {},
   "outputs": [],
   "source": [
    "#build model 1"
   ]
  },
  {
   "cell_type": "code",
   "execution_count": null,
   "metadata": {},
   "outputs": [],
   "source": [
    "#build model 2"
   ]
  }
 ],
 "metadata": {
  "interpreter": {
   "hash": "31f2aee4e71d21fbe5cf8b01ff0e069b9275f58929596ceb00d14d90e3e16cd6"
  },
  "kernelspec": {
   "display_name": "Python 3.9.6 64-bit",
   "name": "python3"
  },
  "language_info": {
   "codemirror_mode": {
    "name": "ipython",
    "version": 3
   },
   "file_extension": ".py",
   "mimetype": "text/x-python",
   "name": "python",
   "nbconvert_exporter": "python",
   "pygments_lexer": "ipython3",
   "version": "3.9.6"
  },
  "orig_nbformat": 4
 },
 "nbformat": 4,
 "nbformat_minor": 2
}
