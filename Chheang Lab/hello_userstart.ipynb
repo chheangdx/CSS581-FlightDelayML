{
 "cells": [
  {
   "cell_type": "markdown",
   "metadata": {},
   "source": [
    "### Load Libraries"
   ]
  },
  {
   "cell_type": "code",
   "execution_count": null,
   "metadata": {},
   "outputs": [],
   "source": [
    "import pandas as pd \n",
    "import numpy as np\n",
    "\n",
    "#to load a prebuilt model\n",
    "import pickle\n",
    "\n",
    "# model being used\n",
    "from sklearn.ensemble import RandomForestClassifier"
   ]
  },
  {
   "cell_type": "markdown",
   "metadata": {},
   "source": [
    "### Load Model from File"
   ]
  },
  {
   "cell_type": "code",
   "execution_count": null,
   "metadata": {},
   "outputs": [],
   "source": [
    "filename = \"delay_model.pkl\"\n",
    "loaded_model = pickle.load(open(filename, 'rb'))"
   ]
  },
  {
   "cell_type": "markdown",
   "metadata": {},
   "source": [
    "### Request user to select flight"
   ]
  },
  {
   "cell_type": "code",
   "execution_count": null,
   "metadata": {},
   "outputs": [],
   "source": []
  },
  {
   "cell_type": "markdown",
   "metadata": {},
   "source": [
    "### Predict best flight"
   ]
  },
  {
   "cell_type": "code",
   "execution_count": null,
   "metadata": {},
   "outputs": [],
   "source": [
    "# the user has provided the departure city, arrival city, and date\n",
    "# now we find all relevant flights\n",
    "def get_relevant_flights(departure_city, arrival_city, date, data):\n",
    "    # use cities to get market\n",
    "    departure_market = data[(data['OriginAirportID'] == departure_city)].iloc[0]['OriginCityMarketID']\n",
    "    arrival_market = data[(data['DestAirportID'] == departure_city)].iloc[0]['DestCityMarketID']\n",
    "    \n",
    "    #filter for all flights in same market\n",
    "    #need to also filter by date\n",
    "    filtered_data = data\n",
    "    [\n",
    "        (data['OriginCityMarketID'] == departure_market)\n",
    "        & (data['DestCityMarketID'] == arrival_market)\n",
    "        & (data['FlightDate'] == date)\n",
    "    ]\n",
    "    return filtered_data\n",
    "\n",
    "# with the relevant flights predict against the model\n",
    "# find which flights have the best delay\n",
    "def best_delay(features, prediction):\n",
    "    print(\"hello world\")\n",
    "\n"
   ]
  }
 ],
 "metadata": {
  "language_info": {
   "name": "python"
  },
  "orig_nbformat": 4
 },
 "nbformat": 4,
 "nbformat_minor": 2
}
