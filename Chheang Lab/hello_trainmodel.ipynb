{
 "cells": [
  {
   "cell_type": "markdown",
   "metadata": {},
   "source": [
    "### Load Libraries"
   ]
  },
  {
   "cell_type": "code",
   "execution_count": 1,
   "metadata": {},
   "outputs": [],
   "source": [
    "import pandas as pd \n",
    "import numpy as np\n",
    "\n",
    "#placeholder classifier\n",
    "from sklearn.ensemble import RandomForestClassifier\n",
    "from sklearn.model_selection import train_test_split\n",
    "\n",
    "from sklearn.metrics import f1_score, roc_auc_score, recall_score, precision_score, confusion_matrix, ConfusionMatrixDisplay\n",
    "import matplotlib.pyplot as plt\n",
    "\n",
    "from sklearn import preprocessing\n",
    "\n",
    "#for saving and loading ML models\n",
    "import pickle"
   ]
  },
  {
   "cell_type": "markdown",
   "metadata": {},
   "source": [
    "### Load Data from Parquet with Selected Columns"
   ]
  },
  {
   "cell_type": "code",
   "execution_count": 2,
   "metadata": {},
   "outputs": [],
   "source": [
    "data_files = [\"../archive/Combined_Flights_2018.parquet\", \"../archive/Combined_Flights_2019.parquet\"]\n",
    "columns_to_use = [\n",
    "    # 'Airline',\n",
    "    # 'Origin',\n",
    "    # 'Dest',\n",
    "    'CRSDepTime', \n",
    "    'Distance', \n",
    "    'Year', \n",
    "    'Quarter', \n",
    "    'Month', \n",
    "    'DayofMonth', \n",
    "    'DayOfWeek', \n",
    "    # 'DepTimeBlk', \n",
    "    # 'ArrTimeBlk', \n",
    "    'DistanceGroup',\n",
    "    'ArrDelayMinutes'\n",
    "    ]\n",
    "\n",
    "data_list = list()\n",
    "for i in range(len(data_files)):\n",
    "    #in this scenario, data_temp will be recycled after the loop is completed\n",
    "    data_temp = pd.read_parquet(data_files[i], columns = columns_to_use, engine=\"fastparquet\")\n",
    "    data_list.append(data_temp)\n",
    "data_df = pd.concat(data_list, ignore_index=True)\n",
    "data_list = list() #free the memory"
   ]
  },
  {
   "cell_type": "markdown",
   "metadata": {},
   "source": [
    "<div class=\"alert alert-block alert-info\">\n",
    "<b>PLACEHOLDER:</b> This converts the data appropriately so that we can run the classification model. It's dirty but it works.\n",
    "</div>"
   ]
  },
  {
   "cell_type": "code",
   "execution_count": 3,
   "metadata": {},
   "outputs": [
    {
     "name": "stdout",
     "output_type": "stream",
     "text": [
      "CRSDepTime\n",
      "Distance\n",
      "Year\n",
      "Quarter\n",
      "Month\n",
      "DayofMonth\n",
      "DayOfWeek\n",
      "DistanceGroup\n",
      "ArrDelayMinutes\n"
     ]
    },
    {
     "name": "stderr",
     "output_type": "stream",
     "text": [
      "/var/folders/jz/xzg8vj2x4vs8lg0vhsshlnc00000gn/T/ipykernel_13352/3885377948.py:18: FutureWarning: The behavior of `series[i:j]` with an integer-dtype index is deprecated. In a future version, this will be treated as *label-based* indexing, consistent with e.g. `series[i]` lookups. To retain the old behavior, use `series.iloc[i:j]`. To get the future behavior, use `series.loc[i:j]`.\n",
      "  normalized_Y = normalized_Y[0:int(size/50)]\n"
     ]
    }
   ],
   "source": [
    "# placeholder, normalize data for testing\n",
    "data_df.dropna(inplace=True)\n",
    "normalized_df=(data_df-data_df.min())/(data_df.max()-data_df.min())\n",
    "data_df = pd.DataFrame()\n",
    "encoder = preprocessing.LabelEncoder()\n",
    "for feature in normalized_df:\n",
    "    print(feature)\n",
    "    normalized_df[feature] = encoder.fit_transform(normalized_df[feature])\n",
    "# normalized_df.info()\n",
    "\n",
    "\n",
    "\n",
    "normalized_X = normalized_df.loc[:,'CRSDepTime':'DistanceGroup']\n",
    "normalized_Y = normalized_df['ArrDelayMinutes']\n",
    "\n",
    "size = len(normalized_Y)\n",
    "normalized_X = normalized_X[:int(size/50)]\n",
    "normalized_Y = normalized_Y[0:int(size/50)]\n",
    "\n",
    "X_train, X_test, Y_train, Y_test = train_test_split(normalized_X, normalized_Y, test_size=0.33, random_state=0)\n",
    "normalized_df = pd.DataFrame()\n",
    "normalized_X = pd.DataFrame()\n",
    "normalized_Y = []\n",
    "\n",
    "\n",
    "\n",
    "# #update data types appropriately\n",
    "\n",
    "# #bin the data\n"
   ]
  },
  {
   "cell_type": "markdown",
   "metadata": {},
   "source": [
    "### Generate and Train ML Model, then Save the Model"
   ]
  },
  {
   "cell_type": "code",
   "execution_count": 4,
   "metadata": {},
   "outputs": [],
   "source": [
    "# assume data is ready\n",
    "clf = RandomForestClassifier(max_depth=2, random_state=0)\n",
    "clf_model = clf.fit(X_train, Y_train)\n",
    "Y_predict = clf_model.predict(X_test)\n"
   ]
  },
  {
   "cell_type": "code",
   "execution_count": 24,
   "metadata": {},
   "outputs": [
    {
     "data": {
      "text/plain": [
       "array([[<AxesSubplot: title={'center': 'target'}>]], dtype=object)"
      ]
     },
     "execution_count": 24,
     "metadata": {},
     "output_type": "execute_result"
    },
    {
     "data": {
      "image/png": "[encoded data removed]",
      "text/plain": [
       "<Figure size 640x480 with 1 Axes>"
      ]
     },
     "metadata": {},
     "output_type": "display_data"
    }
   ],
   "source": [
    "# f1 = f1_score(Y_test, Y_predict, average=None)\n",
    "# roc_auc = roc_auc_score(Y_test, Y_predict)\n",
    "# recall = recall_score(Y_test, Y_predict)\n",
    "# precision = precision_score(Y_test, Y_predict)\n",
    "# confusion_mtrx = confusion_matrix(Y_test, Y_predict)\n",
    "# disp = ConfusionMatrixDisplay(confusion_matrix=confusion_mtrx, display_labels=clf_model.classes_)\n",
    "# disp.plot()\n",
    "# plt.show()\n",
    "prediction = pd.Series(Y_predict, name='target')\n",
    "prediction.to_frame().hist()"
   ]
  },
  {
   "cell_type": "code",
   "execution_count": 8,
   "metadata": {},
   "outputs": [],
   "source": [
    "# save the model for later use\n",
    "filename = \"delay_model.pkl\"\n",
    "pickle.dump(clf_model, open(filename, 'wb'))"
   ]
  },
  {
   "cell_type": "markdown",
   "metadata": {},
   "source": [
    "### Function to determine best location and airline to take"
   ]
  },
  {
   "cell_type": "code",
   "execution_count": 22,
   "metadata": {},
   "outputs": [
    {
     "name": "stdout",
     "output_type": "stream",
     "text": [
      "0 === 0\n",
      "1 === 0\n",
      "2 === 0\n",
      "3 === 0\n"
     ]
    }
   ],
   "source": [
    "def best_delay(features, target):\n",
    "    # for each record, use airline, departure city, arrival city, departure market, arrival market, actual/predicted delay to determine best airline and departure city\n",
    "    for index, row in features.iterrows():\n",
    "        print(index, '===', target[index])\n",
    "        if index == 3:\n",
    "            break\n",
    "\n",
    "if(X_test.first_valid_index() != 0):\n",
    "    X_test.reset_index(inplace=True)\n",
    "best_delay(X_test, Y_predict) \n",
    "    "
   ]
  },
  {
   "cell_type": "markdown",
   "metadata": {},
   "source": [
    "### Predict against 2022"
   ]
  },
  {
   "cell_type": "code",
   "execution_count": null,
   "metadata": {},
   "outputs": [],
   "source": [
    "# # the model is already trained, we do not need to keep the training data\n",
    "# df = pd.DataFrame()\n",
    "\n",
    "# # load the 2022 data\n",
    "# combinedFlights2022 = \"archive/Combined_Flights_2022.parquet\"\n",
    "# df = pd.read_parquet(combinedFlights2022, columns = columns_to_use, engine=\"fastparquet\")\n",
    "# # NOTE: if we are doing 2021+2022 data instead, we need to concatentate the data\n",
    "\n",
    "# # run the data through the ML model to predict\n",
    "\n",
    "# # take predicted delay and select best flight\n"
   ]
  },
  {
   "cell_type": "markdown",
   "metadata": {},
   "source": [
    "### Use the Prediction Results for Performance Analysis"
   ]
  },
  {
   "cell_type": "code",
   "execution_count": null,
   "metadata": {},
   "outputs": [],
   "source": []
  }
 ],
 "metadata": {
  "interpreter": {
   "hash": "31f2aee4e71d21fbe5cf8b01ff0e069b9275f58929596ceb00d14d90e3e16cd6"
  },
  "kernelspec": {
   "display_name": "Python 3.9.6 64-bit",
   "name": "python3"
  },
  "language_info": {
   "codemirror_mode": {
    "name": "ipython",
    "version": 3
   },
   "file_extension": ".py",
   "mimetype": "text/x-python",
   "name": "python",
   "nbconvert_exporter": "python",
   "pygments_lexer": "ipython3",
   "version": "3.9.6"
  },
  "orig_nbformat": 4
 },
 "nbformat": 4,
 "nbformat_minor": 2
}
