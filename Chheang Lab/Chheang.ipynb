{
 "cells": [
  {
   "cell_type": "markdown",
   "metadata": {},
   "source": [
    "### Author: Chheang\n",
    "### Title: Data Load and Manipulation Optimization\n",
    "### Goal: Look at how we can reduce processing time and memory"
   ]
  },
  {
   "cell_type": "code",
   "execution_count": 23,
   "metadata": {},
   "outputs": [
    {
     "name": "stdout",
     "output_type": "stream",
     "text": [
      "hello world\n"
     ]
    }
   ],
   "source": [
    "print(\"hello world\")"
   ]
  },
  {
   "cell_type": "code",
   "execution_count": 24,
   "metadata": {},
   "outputs": [],
   "source": [
    "import pandas as pd \n",
    "import numpy as np\n",
    "\n",
    "import time\n",
    "import tracemalloc\n",
    "\n",
    "# define paths to data\n",
    "combinedFlights2018CSV = \"archive/Combined_Flights_2018.csv\"\n",
    "combinedFlights2018Parquet = \"archive/Combined_Flights_2018.parquet\"\n",
    "\n",
    "tracemalloc.start()\n"
   ]
  },
  {
   "cell_type": "markdown",
   "metadata": {},
   "source": [
    "### Loading the data"
   ]
  },
  {
   "cell_type": "code",
   "execution_count": 25,
   "metadata": {},
   "outputs": [
    {
     "name": "stdout",
     "output_type": "stream",
     "text": [
      "FastParquet Select Columns Parquet Process Time: 1.3014710000000065\n"
     ]
    }
   ],
   "source": [
    "# #time for full load of csv\n",
    "\n",
    "# tic = time.process_time()\n",
    "# full_load = pd.read_csv(combinedFlights2018CSV)\n",
    "# toc = time.process_time()\n",
    "# print(\"Full Load CSV Process Time:\", toc-tic)\n",
    "\n",
    "# #loading only the columns you want is faster and memory efficient\n",
    "\n",
    "columns_to_use = [\n",
    "    'Airline',\n",
    "    'Origin',\n",
    "    'Dest',\n",
    "    'CRSDepTime', \n",
    "    'Distance', \n",
    "    'Year', \n",
    "    'Quarter', \n",
    "    'Month', \n",
    "    'DayofMonth', \n",
    "    'DayOfWeek', \n",
    "    'DepTimeBlk', \n",
    "    'ArrTimeBlk', \n",
    "    'DistanceGroup',\n",
    "    'ArrDelayMinutes'\n",
    "    ]\n",
    "# #time for load of csv with select columns\n",
    "\n",
    "# tic = time.process_time()\n",
    "# select_load = pd.read_csv(combinedFlights2018CSV, usecols = columns_to_use)\n",
    "# toc = time.process_time()\n",
    "# print(\"Select Columns CSV Process Time:\", toc-tic)\n",
    "\n",
    "# #time for load of csv with select columns running the PyArrow engine\n",
    "# #pip install pyarrow\n",
    "\n",
    "# tic = time.process_time()\n",
    "# select_load = pd.read_csv(combinedFlights2018CSV, usecols = columns_to_use, engine=\"pyarrow\")\n",
    "# toc = time.process_time()\n",
    "# print(\"PyArrow Select Columns CSV Process Time:\", toc-tic)\n",
    "\n",
    "# #time for load of parquet with select columns\n",
    "\n",
    "# tic = time.process_time()\n",
    "# select_load = pd.read_parquet(combinedFlights2018Parquet, columns = columns_to_use)\n",
    "# toc = time.process_time()\n",
    "# print(\"Select Columns Parquet Process Time:\", toc-tic)\n",
    "\n",
    "# #time for load of parquet with select columns running the PyArrow engine\n",
    "# #pip install pyarrow\n",
    "\n",
    "# tic = time.process_time()\n",
    "# select_load = pd.read_parquet(combinedFlights2018Parquet, columns = columns_to_use, engine=\"pyarrow\")\n",
    "# toc = time.process_time()\n",
    "# print(\"PyArrow Select Columns Parquet Process Time:\", toc-tic)\n",
    "\n",
    "# #time for load of parquet with select columns running the FastParquet engine\n",
    "# #pip install fastparquet\n",
    "\n",
    "tic = time.process_time()\n",
    "data = pd.read_parquet(combinedFlights2018Parquet, columns = columns_to_use, engine=\"fastparquet\")\n",
    "toc = time.process_time()\n",
    "print(\"FastParquet Select Columns Parquet Process Time:\", toc-tic)\n"
   ]
  },
  {
   "cell_type": "markdown",
   "metadata": {},
   "source": [
    "### Data Manipulation Techniques"
   ]
  },
  {
   "cell_type": "code",
   "execution_count": 26,
   "metadata": {},
   "outputs": [
    {
     "name": "stdout",
     "output_type": "stream",
     "text": [
      "(670537088, 1449183705)\n",
      "(1353334137, 1449183705)\n",
      "(2036123166, 2074221769)\n",
      "(2718912064, 2757010835)\n",
      "(2718913292, 2757010835)\n",
      "(4630592875, 4767150737)\n",
      "(2582354700, 4767150737)\n",
      "(1911914958, 4767150737)\n"
     ]
    }
   ],
   "source": [
    "# note: do not use dataframe.info with tracemalloc\n",
    "# data.info(memory_usage = \"deep\")\n",
    "\n",
    "#you are able to perform inplace operations so that the data is not duplicated\n",
    "#in pandas documentation check for parameter:\n",
    "# inplacebool, default False\n",
    "# If False, return a copy. Otherwise, do operation inplace and return None.\n",
    "data.dropna(subset=['ArrDelayMinutes'], inplace = True)\n",
    "\n",
    "print(tracemalloc.get_traced_memory())\n",
    "\n",
    "## \n",
    "data_list = list()\n",
    "for i in range(3):\n",
    "    #in this scenario, data_temp will be recycled after the loop is completed\n",
    "    data_temp = pd.read_parquet(combinedFlights2018Parquet, columns = columns_to_use, engine=\"fastparquet\")\n",
    "    data_list.append(data_temp)\n",
    "    print(tracemalloc.get_traced_memory())\n",
    "data_temp = pd.DataFrame() #note: this does not improve memory\n",
    "print(tracemalloc.get_traced_memory()) #note: notice that this is the same memory as the last iteration\n",
    "\n",
    "\n",
    "\n",
    "combined_data = pd.concat(data_list, ignore_index=True)\n",
    "# combined_data.info(memory_usage = \"deep\")\n",
    "print(tracemalloc.get_traced_memory())\n",
    "data_list = list() #free the memory\n",
    "print(tracemalloc.get_traced_memory())\n",
    "data = pd.DataFrame() #free the memory from the first test\n",
    "print(tracemalloc.get_traced_memory())"
   ]
  },
  {
   "cell_type": "code",
   "execution_count": 27,
   "metadata": {},
   "outputs": [],
   "source": [
    "tracemalloc.stop()"
   ]
  }
 ],
 "metadata": {
  "interpreter": {
   "hash": "31f2aee4e71d21fbe5cf8b01ff0e069b9275f58929596ceb00d14d90e3e16cd6"
  },
  "kernelspec": {
   "display_name": "Python 3.9.6 64-bit",
   "name": "python3"
  },
  "language_info": {
   "codemirror_mode": {
    "name": "ipython",
    "version": 3
   },
   "file_extension": ".py",
   "mimetype": "text/x-python",
   "name": "python",
   "nbconvert_exporter": "python",
   "pygments_lexer": "ipython3",
   "version": "3.9.6"
  },
  "orig_nbformat": 4
 },
 "nbformat": 4,
 "nbformat_minor": 2
}
